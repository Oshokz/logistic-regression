{
 "cells": [
  {
   "cell_type": "markdown",
   "metadata": {
    "_cell_guid": "7b3f8258-662b-424a-9d35-e1fb882c1306",
    "_execution_state": "idle",
    "_uuid": "d677e0853462f88572798ca33d1bbd1af9e1f57e"
   },
   "source": [
    "## Introduction to Machine Learning\n",
    "\n",
    "- Artificial Intelligence: Machines mimicking humans\n",
    "- Machine Learning: subset of AI: using statistical methods to enable machines to improve with experience; experience here means data.  We want the\n",
    "- Deep Learning: subset of ML: makes computation of multi-layer neural network \n",
    "- machine: algorithm or model. It is not physical\n",
    "- Learning: learning patterns in data or parameter of each variables (instead of writing rules, we allow the algorithm to go through the data (different customer profiles e.g. Age, gender, price) by itself and generate patterns that can be used to make decision. hence ML is wanting the algorithm to learn from experience (patterns in data) without explicitly programmed (no need to write rule; machines will figure out solutions by itself based on the patterns it generates)\n",
    "- Algorithm: set of instruction/ mathematical functions/ method not validated /tested / applied on data yet\n",
    "- Model: algorithm exposed to data; trained and tested using data (algorithm + data)\n",
    "- API:  physical machine interface (engineering work) e.g. ATM machine. However what is working under it, that was trained is the machine (algorithm or model)\n",
    "\n",
    "- Machine Learning is the process of programming computers to optimize a performance criterion using \n",
    "example data or past experience. It is also the act of allowing machines (computers) to find patterns in the example data\n",
    "without the computers being explicitly programmed. Machine learning strives with structured data (in rows and column). We are giving machine an instruction on how to use the data and make sense out of it; to use it to make decision. \n",
    "\n",
    "In the past, programmers used to design rules for this machine on how to make sense out of a data or for prediction, the rules were not scalable, not perfect and susceptible errors; they were so many. for instance to predict whether a particular incidence is cancer or not; they may have to design programs on if the body mass is this, if the person is eating this particular diet, if the the person is smoking, etc. the rules were so many. hence they came up with an idea of supplying data to this machines and allow the machine to use the data to learn, find a pattern and come up with a model (a rule to show that if the person has this, this person has cancer 0R if the if a data says the population area is this in, then housing price is this), so machine is the one coming up with that rule, not human. Machine here means algorithm \n",
    "\n",
    "\n",
    "### Types of Machine Learning\n",
    "- Supervised Learning\n",
    "- Unsupervised Learning\n",
    "- Reinforcement Learning\n",
    "\n",
    "\n",
    "### Supervised: \n",
    "1. Supervised learning: hypothetical teacher; something guiding the machines; how the machine will make predictions is what leads to whether supervised or unsupervised; if the machine has a guide on how to come up with those rules; then it is supervised. the target/ output column is the hypothetical teacher that teachers the machine on how to make that prediction. it can be divided into 2\n",
    "- classification: iif the goal is to build a category e.g. Yes or no; whether a customer will leave or not, fraud is detected or not, etc.\n",
    "- regression: the goal of the model is to predict numeric outcome e.g. weather forecasting, advertising popularity, marketing campaign, life expectancy\n",
    "\n",
    "- It is used whenever we are interested in predicting outputs from the given input data. It consists of \n",
    "input/output pairs. These input/output pairs are known as the training set. The goal of supervised learning is to accurately.\n",
    "predict outputs for new unseen data. <br>\n",
    "\n",
    "Types of supervised machine learning <br>\n",
    "There are two major types of supervised machine learning problems you will often come\n",
    "across in the wild:\n",
    "    - Classification and Regression\n",
    "    \n",
    "#### Classification: \n",
    "- The goal is to predict a label from a list of predefined classes. For example, we might be interested \n",
    "in predicting the species of a flower from its input features such as its length and width. Another example is to \n",
    "predict whether an email is a spam or not. \n",
    "\n",
    "#### Regression: \n",
    "- The goal is to predict a continuous value from the input features. E.g. predicting housing price from features \n",
    "such as house location, number of occupants, imcome of occupants, and so on.\n",
    "\n",
    "\n",
    "#### Machine learning terminology\n",
    "the end goal is not basically on the data you used to build the model; but to use the model to predict on a new data to make future prediction; when building a data, you split it into 3 distinct set that are mutually exclusive(not the same)\n",
    "- training data: data used to build the model -about 70-80%\n",
    "- validation data: data used to check the performance of a model and to tune it, adjust some of the parameters so as to quiz out the accuracy – 10 % . it can be adjusted or retrained till it reaches like 95%. If it reaches this accuracy, it will have a similar accuracy in the testing set.\n",
    "- testing data: after u are fully satisfied with the model and you want it to go into production or to deliver it to your client, you can finally test it and validate it with your testing data; this is to be sure the accuracy after building the model is good. If that also performs well then, your model is good. It can be seen or done once. If done multiple times, it will lead to data leakage. All your adjustment should be done during the validation stage. Testing data will be done once so we don’t expose the data to the model. If done more than once, the model would have memorized it. Just like someone writing a test twice after seeing the result\n",
    "\n",
    "\n",
    "#### Performance Metrics\n",
    "acuuracy, root mean square, etc"
   ]
  },
  {
   "cell_type": "markdown",
   "metadata": {},
   "source": [
    "#### Logistic Regression\n",
    "it is a classification model but shares similar assumptions will linear models\n",
    "\n",
    "- linear model - assumption target variable has to be normally distributed and there must be a linear reltionship between the features and target. Logistic regression assumption is that there is a linear relationship between each of the features and log of odds. 0dd is the ratio of probablity of something happening to not happening\n",
    "- statistical model -that models the probablity of an event taking place by having the log-odds for the event to be a linear combination of one or more independent variables. Instead of just predicting the value of the target directly, it gives us the level of confidence. For instance instead of saying this email is a spam, this is not spam; it uses a probability of 0-1 scale to determine the likelihood of whether an email is a spam or not. Probability renges between 0-1; so anytime the model says the probability that an email is a spam is 0.4, it will not be marked as spam since 0.4 is less than the 0.5 threshold, hence it will approximate the number as 0 meaning not spam. if the model says it is 70percent confident that the email is a spam, it will be marked as 1, meaning spam. . "
   ]
  },
  {
   "cell_type": "markdown",
   "metadata": {},
   "source": [
    "### types\n",
    "\n",
    "1. Binary: 2 categroies oftarget\n",
    "    \n",
    "2. Multinomial: more than 2 but no order\n",
    "    \n",
    "3. Ordianal: to predicts ranks/ orders\n",
    "\n"
   ]
  },
  {
   "cell_type": "markdown",
   "metadata": {},
   "source": [
    "### Assumptions\n",
    "1. the observations are independent\n",
    "2. there is no multicolinearity among explanatory variables\n",
    "3. there are no extreme outliers\n",
    "4. there is a linear relationship between explanatory variable and the logit of response variables\n",
    "5. the sample size is sufficiently large"
   ]
  },
  {
   "cell_type": "markdown",
   "metadata": {},
   "source": [
    "### Pima Indian Diabetes Analysis\n",
    "\n",
    "We will use logistic regression to model the \"Pima Indians Diabetes\" data set. This model will predict which people are likely to develop diabetes.\n",
    "\n",
    "\n",
    "This dataset is originally from the National Institute of Diabetes and Digestive and Kidney Diseases. The objective of the dataset is to diagnostically predict whether or not a patient has diabetes, based on certain diagnostic measurements included in the dataset. Several constraints were placed on the selection of these instances from a larger database. In particular, all patients here are females at least 21 years old of Pima Indian heritage.\n",
    "\n",
    "\n",
    "<b>Data Dictionary</b>:\n",
    "\n",
    "Preg: Number of times pregnant<br>\n",
    "Plas: glucose concentration a 2 hours in an oral glucose tolerance test<br>\n",
    "Pres: blood pressure (mm Hg)<br>\n",
    "Skin: skin fold thickness (mm)<br>\n",
    "test: 2-Hour serum insulin (mu U/ml)<br>\n",
    "mass: BMI (weight in kg/(height in m)^2)<br>\n",
    "pedi: pedigree function<br>\n",
    "age: Age (years)<br>\n",
    "Class: variable (0 or 1) 268 of 768 are 1, the others are 0<br>"
   ]
  },
  {
   "cell_type": "markdown",
   "metadata": {
    "_cell_guid": "26dcb635-f956-4672-b097-3419e36b0071",
    "_execution_state": "idle",
    "_uuid": "4e83bf1a41e4fce195fce364fe46049d4c47d61a"
   },
   "source": [
    "## Import Libraries"
   ]
  },
  {
   "cell_type": "code",
   "execution_count": 1,
   "metadata": {
    "_cell_guid": "d6c9c45a-ab99-4724-9f79-3078de45a2c2",
    "_execution_state": "idle",
    "_uuid": "3f1077096bcba840ff0b64c1e3e75373d6f7cb4e"
   },
   "outputs": [
    {
     "name": "stderr",
     "output_type": "stream",
     "text": [
      "UsageError: unrecognized arguments: #it displays the plot without using plt.show\n"
     ]
    }
   ],
   "source": [
    "import numpy as np # linear algebra\n",
    "import pandas as pd # data processing, CSV file I/O (e.g. pd.read_csv)\n",
    "import matplotlib.pyplot as plt       # matplotlib.pyplot plots data\n",
    "%matplotlib inline #it displays the plot without using plt.show\n",
    "import seaborn as sns\n",
    "from sklearn.linear_model import LogisticRegression\n",
    "from sklearn.preprocessing import StandardScaler, MinAbsScaler\n",
    "from sklearn.metrics import precision_score, f1_score, recall_score"
   ]
  },
  {
   "cell_type": "markdown",
   "metadata": {
    "_cell_guid": "7e6eecbd-4ed5-48a7-9a4a-f332284941a8",
    "_execution_state": "idle",
    "_uuid": "b67213ded17f98e51f96710ed75b3e30e0188aec"
   },
   "source": [
    "## Load and review data"
   ]
  },
  {
   "cell_type": "code",
   "execution_count": 2,
   "metadata": {
    "_cell_guid": "494c0137-fe90-4a56-8c04-8c0cd312f4e0",
    "_execution_state": "idle",
    "_uuid": "18516319ab9c570974d728eb2fc55e54a7b44855"
   },
   "outputs": [
    {
     "data": {
      "text/html": [
       "<div>\n",
       "<style scoped>\n",
       "    .dataframe tbody tr th:only-of-type {\n",
       "        vertical-align: middle;\n",
       "    }\n",
       "\n",
       "    .dataframe tbody tr th {\n",
       "        vertical-align: top;\n",
       "    }\n",
       "\n",
       "    .dataframe thead th {\n",
       "        text-align: right;\n",
       "    }\n",
       "</style>\n",
       "<table border=\"1\" class=\"dataframe\">\n",
       "  <thead>\n",
       "    <tr style=\"text-align: right;\">\n",
       "      <th></th>\n",
       "      <th>Preg</th>\n",
       "      <th>Plas</th>\n",
       "      <th>Pres</th>\n",
       "      <th>skin</th>\n",
       "      <th>test</th>\n",
       "      <th>mass</th>\n",
       "      <th>pedi</th>\n",
       "      <th>age</th>\n",
       "      <th>class</th>\n",
       "    </tr>\n",
       "  </thead>\n",
       "  <tbody>\n",
       "    <tr>\n",
       "      <th>0</th>\n",
       "      <td>6</td>\n",
       "      <td>148</td>\n",
       "      <td>72</td>\n",
       "      <td>35</td>\n",
       "      <td>0</td>\n",
       "      <td>33.6</td>\n",
       "      <td>0.627</td>\n",
       "      <td>50</td>\n",
       "      <td>1</td>\n",
       "    </tr>\n",
       "    <tr>\n",
       "      <th>1</th>\n",
       "      <td>1</td>\n",
       "      <td>85</td>\n",
       "      <td>66</td>\n",
       "      <td>29</td>\n",
       "      <td>0</td>\n",
       "      <td>26.6</td>\n",
       "      <td>0.351</td>\n",
       "      <td>31</td>\n",
       "      <td>0</td>\n",
       "    </tr>\n",
       "    <tr>\n",
       "      <th>2</th>\n",
       "      <td>8</td>\n",
       "      <td>183</td>\n",
       "      <td>64</td>\n",
       "      <td>0</td>\n",
       "      <td>0</td>\n",
       "      <td>23.3</td>\n",
       "      <td>0.672</td>\n",
       "      <td>32</td>\n",
       "      <td>1</td>\n",
       "    </tr>\n",
       "    <tr>\n",
       "      <th>3</th>\n",
       "      <td>1</td>\n",
       "      <td>89</td>\n",
       "      <td>66</td>\n",
       "      <td>23</td>\n",
       "      <td>94</td>\n",
       "      <td>28.1</td>\n",
       "      <td>0.167</td>\n",
       "      <td>21</td>\n",
       "      <td>0</td>\n",
       "    </tr>\n",
       "    <tr>\n",
       "      <th>4</th>\n",
       "      <td>0</td>\n",
       "      <td>137</td>\n",
       "      <td>40</td>\n",
       "      <td>35</td>\n",
       "      <td>168</td>\n",
       "      <td>43.1</td>\n",
       "      <td>2.288</td>\n",
       "      <td>33</td>\n",
       "      <td>1</td>\n",
       "    </tr>\n",
       "  </tbody>\n",
       "</table>\n",
       "</div>"
      ],
      "text/plain": [
       "   Preg  Plas  Pres  skin  test  mass   pedi  age  class\n",
       "0     6   148    72    35     0  33.6  0.627   50      1\n",
       "1     1    85    66    29     0  26.6  0.351   31      0\n",
       "2     8   183    64     0     0  23.3  0.672   32      1\n",
       "3     1    89    66    23    94  28.1  0.167   21      0\n",
       "4     0   137    40    35   168  43.1  2.288   33      1"
      ]
     },
     "execution_count": 2,
     "metadata": {},
     "output_type": "execute_result"
    }
   ],
   "source": [
    "path = \"pima-indians-diabetes.csv\"\n",
    "\n",
    "# load the data\n",
    "data = pd.read_csv(path)\n",
    "data.head()"
   ]
  },
  {
   "cell_type": "code",
   "execution_count": 3,
   "metadata": {},
   "outputs": [
    {
     "data": {
      "text/html": [
       "<div>\n",
       "<style scoped>\n",
       "    .dataframe tbody tr th:only-of-type {\n",
       "        vertical-align: middle;\n",
       "    }\n",
       "\n",
       "    .dataframe tbody tr th {\n",
       "        vertical-align: top;\n",
       "    }\n",
       "\n",
       "    .dataframe thead th {\n",
       "        text-align: right;\n",
       "    }\n",
       "</style>\n",
       "<table border=\"1\" class=\"dataframe\">\n",
       "  <thead>\n",
       "    <tr style=\"text-align: right;\">\n",
       "      <th></th>\n",
       "      <th>count</th>\n",
       "      <th>mean</th>\n",
       "      <th>std</th>\n",
       "      <th>min</th>\n",
       "      <th>25%</th>\n",
       "      <th>50%</th>\n",
       "      <th>75%</th>\n",
       "      <th>max</th>\n",
       "    </tr>\n",
       "  </thead>\n",
       "  <tbody>\n",
       "    <tr>\n",
       "      <th>Preg</th>\n",
       "      <td>768.0</td>\n",
       "      <td>3.845052</td>\n",
       "      <td>3.369578</td>\n",
       "      <td>0.000</td>\n",
       "      <td>1.00000</td>\n",
       "      <td>3.0000</td>\n",
       "      <td>6.00000</td>\n",
       "      <td>17.00</td>\n",
       "    </tr>\n",
       "    <tr>\n",
       "      <th>Plas</th>\n",
       "      <td>768.0</td>\n",
       "      <td>120.894531</td>\n",
       "      <td>31.972618</td>\n",
       "      <td>0.000</td>\n",
       "      <td>99.00000</td>\n",
       "      <td>117.0000</td>\n",
       "      <td>140.25000</td>\n",
       "      <td>199.00</td>\n",
       "    </tr>\n",
       "    <tr>\n",
       "      <th>Pres</th>\n",
       "      <td>768.0</td>\n",
       "      <td>69.105469</td>\n",
       "      <td>19.355807</td>\n",
       "      <td>0.000</td>\n",
       "      <td>62.00000</td>\n",
       "      <td>72.0000</td>\n",
       "      <td>80.00000</td>\n",
       "      <td>122.00</td>\n",
       "    </tr>\n",
       "    <tr>\n",
       "      <th>skin</th>\n",
       "      <td>768.0</td>\n",
       "      <td>20.536458</td>\n",
       "      <td>15.952218</td>\n",
       "      <td>0.000</td>\n",
       "      <td>0.00000</td>\n",
       "      <td>23.0000</td>\n",
       "      <td>32.00000</td>\n",
       "      <td>99.00</td>\n",
       "    </tr>\n",
       "    <tr>\n",
       "      <th>test</th>\n",
       "      <td>768.0</td>\n",
       "      <td>79.799479</td>\n",
       "      <td>115.244002</td>\n",
       "      <td>0.000</td>\n",
       "      <td>0.00000</td>\n",
       "      <td>30.5000</td>\n",
       "      <td>127.25000</td>\n",
       "      <td>846.00</td>\n",
       "    </tr>\n",
       "    <tr>\n",
       "      <th>mass</th>\n",
       "      <td>768.0</td>\n",
       "      <td>31.992578</td>\n",
       "      <td>7.884160</td>\n",
       "      <td>0.000</td>\n",
       "      <td>27.30000</td>\n",
       "      <td>32.0000</td>\n",
       "      <td>36.60000</td>\n",
       "      <td>67.10</td>\n",
       "    </tr>\n",
       "    <tr>\n",
       "      <th>pedi</th>\n",
       "      <td>768.0</td>\n",
       "      <td>0.471876</td>\n",
       "      <td>0.331329</td>\n",
       "      <td>0.078</td>\n",
       "      <td>0.24375</td>\n",
       "      <td>0.3725</td>\n",
       "      <td>0.62625</td>\n",
       "      <td>2.42</td>\n",
       "    </tr>\n",
       "    <tr>\n",
       "      <th>age</th>\n",
       "      <td>768.0</td>\n",
       "      <td>33.240885</td>\n",
       "      <td>11.760232</td>\n",
       "      <td>21.000</td>\n",
       "      <td>24.00000</td>\n",
       "      <td>29.0000</td>\n",
       "      <td>41.00000</td>\n",
       "      <td>81.00</td>\n",
       "    </tr>\n",
       "    <tr>\n",
       "      <th>class</th>\n",
       "      <td>768.0</td>\n",
       "      <td>0.348958</td>\n",
       "      <td>0.476951</td>\n",
       "      <td>0.000</td>\n",
       "      <td>0.00000</td>\n",
       "      <td>0.0000</td>\n",
       "      <td>1.00000</td>\n",
       "      <td>1.00</td>\n",
       "    </tr>\n",
       "  </tbody>\n",
       "</table>\n",
       "</div>"
      ],
      "text/plain": [
       "       count        mean         std     min       25%       50%        75%  \\\n",
       "Preg   768.0    3.845052    3.369578   0.000   1.00000    3.0000    6.00000   \n",
       "Plas   768.0  120.894531   31.972618   0.000  99.00000  117.0000  140.25000   \n",
       "Pres   768.0   69.105469   19.355807   0.000  62.00000   72.0000   80.00000   \n",
       "skin   768.0   20.536458   15.952218   0.000   0.00000   23.0000   32.00000   \n",
       "test   768.0   79.799479  115.244002   0.000   0.00000   30.5000  127.25000   \n",
       "mass   768.0   31.992578    7.884160   0.000  27.30000   32.0000   36.60000   \n",
       "pedi   768.0    0.471876    0.331329   0.078   0.24375    0.3725    0.62625   \n",
       "age    768.0   33.240885   11.760232  21.000  24.00000   29.0000   41.00000   \n",
       "class  768.0    0.348958    0.476951   0.000   0.00000    0.0000    1.00000   \n",
       "\n",
       "          max  \n",
       "Preg    17.00  \n",
       "Plas   199.00  \n",
       "Pres   122.00  \n",
       "skin    99.00  \n",
       "test   846.00  \n",
       "mass    67.10  \n",
       "pedi     2.42  \n",
       "age     81.00  \n",
       "class    1.00  "
      ]
     },
     "execution_count": 3,
     "metadata": {},
     "output_type": "execute_result"
    }
   ],
   "source": [
    "data.describe().T"
   ]
  },
  {
   "cell_type": "markdown",
   "metadata": {},
   "source": [
    "- Class 1 mean diabetic\n",
    "- class 0 means not diabletic\n",
    "- minimum blood pressure is 0; this is a data entry error because blood pressure cannot be negative. The data analyst might have used 0 to replace the value if it was missing\n",
    "- minimum body mass index is 0 ; this cannot be possible, hence the 0 will be treated as missing values\n",
    "- minimum skin thickness is 0 ; this cannot be possible, hence the 0 will be treated as missing values"
   ]
  },
  {
   "cell_type": "code",
   "execution_count": 4,
   "metadata": {
    "_cell_guid": "e76ccd67-f803-4245-aeda-cba2da84b379",
    "_execution_state": "idle",
    "_uuid": "9c42f7d497d2b92f651a33b58359641c6593a441"
   },
   "outputs": [
    {
     "data": {
      "text/plain": [
       "(768, 9)"
      ]
     },
     "execution_count": 4,
     "metadata": {},
     "output_type": "execute_result"
    }
   ],
   "source": [
    "# Check number of columns and rows in data frame\n",
    "data.shape"
   ]
  },
  {
   "cell_type": "code",
   "execution_count": 5,
   "metadata": {
    "_cell_guid": "2845e88c-8999-48d2-a94d-cae37473fd05",
    "_execution_state": "idle",
    "_uuid": "95fd5e5d6206cd21a548259734596d46329ace3a",
    "scrolled": true
   },
   "outputs": [
    {
     "data": {
      "text/plain": [
       "Preg     0\n",
       "Plas     0\n",
       "Pres     0\n",
       "skin     0\n",
       "test     0\n",
       "mass     0\n",
       "pedi     0\n",
       "age      0\n",
       "class    0\n",
       "dtype: int64"
      ]
     },
     "execution_count": 5,
     "metadata": {},
     "output_type": "execute_result"
    }
   ],
   "source": [
    "# Check for missing values\n",
    "data.isnull().sum()\n"
   ]
  },
  {
   "cell_type": "markdown",
   "metadata": {},
   "source": [
    "- there are no missing values. However the data still has some mistakes of minimum values being 0 and thiscould be as a result of missing values being replaced"
   ]
  },
  {
   "cell_type": "markdown",
   "metadata": {},
   "source": [
    "### Visualize the data"
   ]
  },
  {
   "cell_type": "code",
   "execution_count": 6,
   "metadata": {},
   "outputs": [
    {
     "data": {
      "text/plain": [
       "['Preg', 'Plas', 'Pres', 'skin', 'test', 'mass', 'pedi', 'age', 'class']"
      ]
     },
     "execution_count": 6,
     "metadata": {},
     "output_type": "execute_result"
    }
   ],
   "source": [
    "list(data)"
   ]
  },
  {
   "cell_type": "code",
   "execution_count": 7,
   "metadata": {},
   "outputs": [
    {
     "data": {
      "text/plain": [
       "['Preg', 'Plas', 'Pres', 'skin', 'test', 'mass', 'pedi', 'age']"
      ]
     },
     "execution_count": 7,
     "metadata": {},
     "output_type": "execute_result"
    }
   ],
   "source": [
    "list(data)[:-1]"
   ]
  },
  {
   "cell_type": "markdown",
   "metadata": {},
   "source": [
    "- these are the list of columns I want to visualize. The class has just 0 and 1; nothing to visualize"
   ]
  },
  {
   "cell_type": "code",
   "execution_count": 8,
   "metadata": {},
   "outputs": [
    {
     "data": {
      "text/plain": [
       "<function matplotlib.pyplot.tight_layout(*, pad=1.08, h_pad=None, w_pad=None, rect=None)>"
      ]
     },
     "execution_count": 8,
     "metadata": {},
     "output_type": "execute_result"
    },
    {
     "data": {
      "image/png": "[encoded data removed]",
      "text/plain": [
       "<Figure size 864x2160 with 28 Axes>"
      ]
     },
     "metadata": {
      "needs_background": "light"
     },
     "output_type": "display_data"
    }
   ],
   "source": [
    "columns = list(data)[:-1]\n",
    "data[columns].hist(stacked = False, bins = 100, figsize = (12,30),\n",
    "                 layout = (14,2) )\n",
    "plt.tight_layout# to prevent title from overlapping;"
   ]
  },
  {
   "cell_type": "markdown",
   "metadata": {},
   "source": [
    "- Plas : some amount ofleft skewness\n",
    "- pres: approximatelynormally distributed though there are some 0 whic will be dealt with\n",
    "- mass: also normally distributed\n",
    "- Pedi: right skewed\n",
    "- Age: right skewed\n",
    "- Pedi and Age can be log transformed to make them normally distributed\n",
    "#### Note that you can log transform both target and individual skewed variables; just that when interpreting the result, you will do it on that scale of transformation"
   ]
  },
  {
   "cell_type": "markdown",
   "metadata": {},
   "source": [
    "#### Identify Correlation in data "
   ]
  },
  {
   "cell_type": "code",
   "execution_count": 9,
   "metadata": {},
   "outputs": [
    {
     "data": {
      "text/html": [
       "<div>\n",
       "<style scoped>\n",
       "    .dataframe tbody tr th:only-of-type {\n",
       "        vertical-align: middle;\n",
       "    }\n",
       "\n",
       "    .dataframe tbody tr th {\n",
       "        vertical-align: top;\n",
       "    }\n",
       "\n",
       "    .dataframe thead th {\n",
       "        text-align: right;\n",
       "    }\n",
       "</style>\n",
       "<table border=\"1\" class=\"dataframe\">\n",
       "  <thead>\n",
       "    <tr style=\"text-align: right;\">\n",
       "      <th></th>\n",
       "      <th>Preg</th>\n",
       "      <th>Plas</th>\n",
       "      <th>Pres</th>\n",
       "      <th>skin</th>\n",
       "      <th>test</th>\n",
       "      <th>mass</th>\n",
       "      <th>pedi</th>\n",
       "      <th>age</th>\n",
       "      <th>class</th>\n",
       "    </tr>\n",
       "  </thead>\n",
       "  <tbody>\n",
       "    <tr>\n",
       "      <th>Preg</th>\n",
       "      <td>1.000000</td>\n",
       "      <td>0.129459</td>\n",
       "      <td>0.141282</td>\n",
       "      <td>-0.081672</td>\n",
       "      <td>-0.073535</td>\n",
       "      <td>0.017683</td>\n",
       "      <td>-0.033523</td>\n",
       "      <td>0.544341</td>\n",
       "      <td>0.221898</td>\n",
       "    </tr>\n",
       "    <tr>\n",
       "      <th>Plas</th>\n",
       "      <td>0.129459</td>\n",
       "      <td>1.000000</td>\n",
       "      <td>0.152590</td>\n",
       "      <td>0.057328</td>\n",
       "      <td>0.331357</td>\n",
       "      <td>0.221071</td>\n",
       "      <td>0.137337</td>\n",
       "      <td>0.263514</td>\n",
       "      <td>0.466581</td>\n",
       "    </tr>\n",
       "    <tr>\n",
       "      <th>Pres</th>\n",
       "      <td>0.141282</td>\n",
       "      <td>0.152590</td>\n",
       "      <td>1.000000</td>\n",
       "      <td>0.207371</td>\n",
       "      <td>0.088933</td>\n",
       "      <td>0.281805</td>\n",
       "      <td>0.041265</td>\n",
       "      <td>0.239528</td>\n",
       "      <td>0.065068</td>\n",
       "    </tr>\n",
       "    <tr>\n",
       "      <th>skin</th>\n",
       "      <td>-0.081672</td>\n",
       "      <td>0.057328</td>\n",
       "      <td>0.207371</td>\n",
       "      <td>1.000000</td>\n",
       "      <td>0.436783</td>\n",
       "      <td>0.392573</td>\n",
       "      <td>0.183928</td>\n",
       "      <td>-0.113970</td>\n",
       "      <td>0.074752</td>\n",
       "    </tr>\n",
       "    <tr>\n",
       "      <th>test</th>\n",
       "      <td>-0.073535</td>\n",
       "      <td>0.331357</td>\n",
       "      <td>0.088933</td>\n",
       "      <td>0.436783</td>\n",
       "      <td>1.000000</td>\n",
       "      <td>0.197859</td>\n",
       "      <td>0.185071</td>\n",
       "      <td>-0.042163</td>\n",
       "      <td>0.130548</td>\n",
       "    </tr>\n",
       "    <tr>\n",
       "      <th>mass</th>\n",
       "      <td>0.017683</td>\n",
       "      <td>0.221071</td>\n",
       "      <td>0.281805</td>\n",
       "      <td>0.392573</td>\n",
       "      <td>0.197859</td>\n",
       "      <td>1.000000</td>\n",
       "      <td>0.140647</td>\n",
       "      <td>0.036242</td>\n",
       "      <td>0.292695</td>\n",
       "    </tr>\n",
       "    <tr>\n",
       "      <th>pedi</th>\n",
       "      <td>-0.033523</td>\n",
       "      <td>0.137337</td>\n",
       "      <td>0.041265</td>\n",
       "      <td>0.183928</td>\n",
       "      <td>0.185071</td>\n",
       "      <td>0.140647</td>\n",
       "      <td>1.000000</td>\n",
       "      <td>0.033561</td>\n",
       "      <td>0.173844</td>\n",
       "    </tr>\n",
       "    <tr>\n",
       "      <th>age</th>\n",
       "      <td>0.544341</td>\n",
       "      <td>0.263514</td>\n",
       "      <td>0.239528</td>\n",
       "      <td>-0.113970</td>\n",
       "      <td>-0.042163</td>\n",
       "      <td>0.036242</td>\n",
       "      <td>0.033561</td>\n",
       "      <td>1.000000</td>\n",
       "      <td>0.238356</td>\n",
       "    </tr>\n",
       "    <tr>\n",
       "      <th>class</th>\n",
       "      <td>0.221898</td>\n",
       "      <td>0.466581</td>\n",
       "      <td>0.065068</td>\n",
       "      <td>0.074752</td>\n",
       "      <td>0.130548</td>\n",
       "      <td>0.292695</td>\n",
       "      <td>0.173844</td>\n",
       "      <td>0.238356</td>\n",
       "      <td>1.000000</td>\n",
       "    </tr>\n",
       "  </tbody>\n",
       "</table>\n",
       "</div>"
      ],
      "text/plain": [
       "           Preg      Plas      Pres      skin      test      mass      pedi  \\\n",
       "Preg   1.000000  0.129459  0.141282 -0.081672 -0.073535  0.017683 -0.033523   \n",
       "Plas   0.129459  1.000000  0.152590  0.057328  0.331357  0.221071  0.137337   \n",
       "Pres   0.141282  0.152590  1.000000  0.207371  0.088933  0.281805  0.041265   \n",
       "skin  -0.081672  0.057328  0.207371  1.000000  0.436783  0.392573  0.183928   \n",
       "test  -0.073535  0.331357  0.088933  0.436783  1.000000  0.197859  0.185071   \n",
       "mass   0.017683  0.221071  0.281805  0.392573  0.197859  1.000000  0.140647   \n",
       "pedi  -0.033523  0.137337  0.041265  0.183928  0.185071  0.140647  1.000000   \n",
       "age    0.544341  0.263514  0.239528 -0.113970 -0.042163  0.036242  0.033561   \n",
       "class  0.221898  0.466581  0.065068  0.074752  0.130548  0.292695  0.173844   \n",
       "\n",
       "            age     class  \n",
       "Preg   0.544341  0.221898  \n",
       "Plas   0.263514  0.466581  \n",
       "Pres   0.239528  0.065068  \n",
       "skin  -0.113970  0.074752  \n",
       "test  -0.042163  0.130548  \n",
       "mass   0.036242  0.292695  \n",
       "pedi   0.033561  0.173844  \n",
       "age    1.000000  0.238356  \n",
       "class  0.238356  1.000000  "
      ]
     },
     "execution_count": 9,
     "metadata": {},
     "output_type": "execute_result"
    }
   ],
   "source": [
    "mat_corr = data.corr()\n",
    "mat_corr"
   ]
  },
  {
   "cell_type": "code",
   "execution_count": 10,
   "metadata": {},
   "outputs": [
    {
     "data": {
      "text/plain": [
       "<AxesSubplot:>"
      ]
     },
     "execution_count": 10,
     "metadata": {},
     "output_type": "execute_result"
    },
    {
     "data": {
      "image/png": "[encoded data removed]",
      "text/plain": [
       "<Figure size 720x504 with 2 Axes>"
      ]
     },
     "metadata": {
      "needs_background": "light"
     },
     "output_type": "display_data"
    }
   ],
   "source": [
    "import seaborn as sns\n",
    "plt.figure(figsize = (10,7))\n",
    "sns.heatmap(mat_corr, annot= True, vmin = -1, vmax = 1, cmap =\"Spectral\")"
   ]
  },
  {
   "cell_type": "markdown",
   "metadata": {},
   "source": [
    "- Age and pregnancy has a high positive corelation; however 54 percent is not too high; we will not drop any\n",
    "- anything above 70 percent for multicolinearity is a pointer; this means they are sharing a lot of information and one of the independent features should be dropped"
   ]
  },
  {
   "cell_type": "markdown",
   "metadata": {
    "_cell_guid": "aa405f3c-38cc-4f3a-a775-ef0d94a067b3",
    "_execution_state": "idle",
    "_uuid": "eff7ef0f7fafb92a1c0d9a93f3a11cef4a92e0f9"
   },
   "source": [
    "## Calculate diabetes ratio of True/False from outcome variable "
   ]
  },
  {
   "cell_type": "code",
   "execution_count": 11,
   "metadata": {},
   "outputs": [
    {
     "data": {
      "text/plain": [
       "0    500\n",
       "1    268\n",
       "Name: class, dtype: int64"
      ]
     },
     "execution_count": 11,
     "metadata": {},
     "output_type": "execute_result"
    }
   ],
   "source": [
    "data[\"class\"].value_counts()"
   ]
  },
  {
   "cell_type": "markdown",
   "metadata": {},
   "source": [
    "- This is an example of **inbalanced data**: out of 768 females, 500 are reported not to be diabetes and 268are diabetes which is the one we are interested in. A balanced data will have equal number of classes in the target. In real world data there are 99.9% chances that you will be working with an inbalanced data. If you want to predict whether a transnaction is fraudulent or not, most of the transaction will not be fraudulent,only few will be fraudulent\n",
    "- most machine learning models tendsto perform poorly on inbalanced data since they are fed with one category higher than the other, they will give preference to that category when fed with a new data\n",
    "- Smote, undersampling and oversampling are used to treat inbalanced data"
   ]
  },
  {
   "cell_type": "code",
   "execution_count": 12,
   "metadata": {},
   "outputs": [
    {
     "data": {
      "text/plain": [
       "0    0.651042\n",
       "1    0.348958\n",
       "Name: class, dtype: float64"
      ]
     },
     "execution_count": 12,
     "metadata": {},
     "output_type": "execute_result"
    }
   ],
   "source": [
    "data[\"class\"].value_counts(normalize= True)"
   ]
  },
  {
   "cell_type": "markdown",
   "metadata": {
    "_cell_guid": "3fb2e67c-ad71-4475-af6e-9892508d1b6f",
    "_execution_state": "idle",
    "_uuid": "eb8f05e75cd37f71ce2a9e40d0558eb5538aa08e"
   },
   "source": [
    "So we have 34.90% people in current data set who have diabetes and rest of 65.10% doesn't have diabetes. \n",
    "\n",
    "Its a good distribution True/False cases of diabetes in data."
   ]
  },
  {
   "cell_type": "markdown",
   "metadata": {
    "_cell_guid": "5e39d0b7-2f26-4d26-8a8d-6d0da0e22594",
    "_execution_state": "idle",
    "_uuid": "3c5ea745d170940b3d831b6e128959c87f8c117f"
   },
   "source": [
    "## Spliting the data \n",
    "We will use 80% of data for training and 20% for testing."
   ]
  },
  {
   "cell_type": "code",
   "execution_count": 13,
   "metadata": {
    "_cell_guid": "5a9250a4-7c26-4770-943e-234568a37be3",
    "_execution_state": "idle",
    "_uuid": "00a1d497bd1fcae2c3500540bede6d2bbf25ab54"
   },
   "outputs": [],
   "source": [
    "from sklearn.model_selection import train_test_split\n",
    "X = data.drop(\"class\", axis = 1)\n",
    "y = data[\"class\"]"
   ]
  },
  {
   "cell_type": "markdown",
   "metadata": {
    "_cell_guid": "fd533eb9-a891-40de-87d2-7db271681e51",
    "_execution_state": "idle",
    "_uuid": "f667115329e68cfa0015c8c26b57db7104ee3dbb"
   },
   "source": [
    "Lets check split of data"
   ]
  },
  {
   "cell_type": "code",
   "execution_count": 14,
   "metadata": {
    "_execution_state": "idle",
    "_uuid": "34188146c68af804a7df3cf0e3e33ed79d096985"
   },
   "outputs": [],
   "source": [
    "x_train, x_test, y_train, y_test = train_test_split(X, y, test_size = 0.2,\n",
    "                                                   random_state = 0, stratify= y)\n",
    "\n",
    "# stratify is always the name of target i.e. y"
   ]
  },
  {
   "cell_type": "markdown",
   "metadata": {},
   "source": [
    "stratify is used in all classificationproblem. The 0 category has 65% while 1 has 35%, if we dont call stratify, it is possible that the train_test_split with give all the 1 in training and no 1 class will be in the testing. Stratify will help us balance it evenly by maintaining the proportion of 0 and 1 in both training and testing data"
   ]
  },
  {
   "cell_type": "code",
   "execution_count": 15,
   "metadata": {},
   "outputs": [
    {
     "data": {
      "text/plain": [
       "0    0.651466\n",
       "1    0.348534\n",
       "Name: class, dtype: float64"
      ]
     },
     "execution_count": 15,
     "metadata": {},
     "output_type": "execute_result"
    }
   ],
   "source": [
    "y_train.value_counts(normalize = True)"
   ]
  },
  {
   "cell_type": "code",
   "execution_count": 16,
   "metadata": {},
   "outputs": [
    {
     "data": {
      "text/plain": [
       "0    0.649351\n",
       "1    0.350649\n",
       "Name: class, dtype: float64"
      ]
     },
     "execution_count": 16,
     "metadata": {},
     "output_type": "execute_result"
    }
   ],
   "source": [
    "y_test.value_counts(normalize = True)"
   ]
  },
  {
   "cell_type": "code",
   "execution_count": 17,
   "metadata": {},
   "outputs": [],
   "source": [
    "# Check the distribution of the target in train and test data\n",
    "\n"
   ]
  },
  {
   "cell_type": "code",
   "execution_count": null,
   "metadata": {},
   "outputs": [],
   "source": []
  },
  {
   "cell_type": "markdown",
   "metadata": {
    "_execution_state": "idle",
    "_uuid": "7170e34e9c311bc3f08f02a7ee48ad849f40c006"
   },
   "source": [
    "# Data Preparation\n",
    "\n",
    "### Check hidden missing values \n",
    "\n",
    "As we checked missing values earlier but haven't got any. But there can be lots of entries with 0 values. We must need to take care of those as well. Note that if there is a missing value in target, always drop it because you cannot impute a value for something you want to predict"
   ]
  },
  {
   "cell_type": "code",
   "execution_count": 18,
   "metadata": {},
   "outputs": [],
   "source": [
    "from sklearn.impute import SimpleImputer"
   ]
  },
  {
   "cell_type": "markdown",
   "metadata": {
    "_execution_state": "idle",
    "_uuid": "451c63a2f53a84f71f0ef11151b8a1e2ce3b9c9a"
   },
   "source": [
    "### Replace 0s with serial mean "
   ]
  },
  {
   "cell_type": "code",
   "execution_count": 19,
   "metadata": {
    "scrolled": false
   },
   "outputs": [
    {
     "data": {
      "text/html": [
       "<div>\n",
       "<style scoped>\n",
       "    .dataframe tbody tr th:only-of-type {\n",
       "        vertical-align: middle;\n",
       "    }\n",
       "\n",
       "    .dataframe tbody tr th {\n",
       "        vertical-align: top;\n",
       "    }\n",
       "\n",
       "    .dataframe thead th {\n",
       "        text-align: right;\n",
       "    }\n",
       "</style>\n",
       "<table border=\"1\" class=\"dataframe\">\n",
       "  <thead>\n",
       "    <tr style=\"text-align: right;\">\n",
       "      <th></th>\n",
       "      <th>Preg</th>\n",
       "      <th>Plas</th>\n",
       "      <th>Pres</th>\n",
       "      <th>skin</th>\n",
       "      <th>test</th>\n",
       "      <th>mass</th>\n",
       "      <th>pedi</th>\n",
       "      <th>age</th>\n",
       "    </tr>\n",
       "  </thead>\n",
       "  <tbody>\n",
       "    <tr>\n",
       "      <th>0</th>\n",
       "      <td>6</td>\n",
       "      <td>148</td>\n",
       "      <td>72</td>\n",
       "      <td>35</td>\n",
       "      <td>0</td>\n",
       "      <td>33.6</td>\n",
       "      <td>0.627</td>\n",
       "      <td>50</td>\n",
       "    </tr>\n",
       "    <tr>\n",
       "      <th>1</th>\n",
       "      <td>1</td>\n",
       "      <td>85</td>\n",
       "      <td>66</td>\n",
       "      <td>29</td>\n",
       "      <td>0</td>\n",
       "      <td>26.6</td>\n",
       "      <td>0.351</td>\n",
       "      <td>31</td>\n",
       "    </tr>\n",
       "    <tr>\n",
       "      <th>2</th>\n",
       "      <td>8</td>\n",
       "      <td>183</td>\n",
       "      <td>64</td>\n",
       "      <td>0</td>\n",
       "      <td>0</td>\n",
       "      <td>23.3</td>\n",
       "      <td>0.672</td>\n",
       "      <td>32</td>\n",
       "    </tr>\n",
       "    <tr>\n",
       "      <th>3</th>\n",
       "      <td>1</td>\n",
       "      <td>89</td>\n",
       "      <td>66</td>\n",
       "      <td>23</td>\n",
       "      <td>94</td>\n",
       "      <td>28.1</td>\n",
       "      <td>0.167</td>\n",
       "      <td>21</td>\n",
       "    </tr>\n",
       "    <tr>\n",
       "      <th>4</th>\n",
       "      <td>0</td>\n",
       "      <td>137</td>\n",
       "      <td>40</td>\n",
       "      <td>35</td>\n",
       "      <td>168</td>\n",
       "      <td>43.1</td>\n",
       "      <td>2.288</td>\n",
       "      <td>33</td>\n",
       "    </tr>\n",
       "  </tbody>\n",
       "</table>\n",
       "</div>"
      ],
      "text/plain": [
       "   Preg  Plas  Pres  skin  test  mass   pedi  age\n",
       "0     6   148    72    35     0  33.6  0.627   50\n",
       "1     1    85    66    29     0  26.6  0.351   31\n",
       "2     8   183    64     0     0  23.3  0.672   32\n",
       "3     1    89    66    23    94  28.1  0.167   21\n",
       "4     0   137    40    35   168  43.1  2.288   33"
      ]
     },
     "execution_count": 19,
     "metadata": {},
     "output_type": "execute_result"
    }
   ],
   "source": [
    "# check the descriptive statistics\n",
    "X.head()\n"
   ]
  },
  {
   "cell_type": "markdown",
   "metadata": {},
   "source": [
    "- Age cannot be 0 since the minumum observation is 21 years\n",
    "- skin thickness cannoot be 0\n",
    "- blood pressure cannot be 0"
   ]
  },
  {
   "cell_type": "markdown",
   "metadata": {},
   "source": [
    "#### Impute missing values with mean\n",
    "- Import SimpleImputer and transform train and test data\n",
    "\n",
    "\n"
   ]
  },
  {
   "cell_type": "code",
   "execution_count": 20,
   "metadata": {
    "_execution_state": "idle",
    "_uuid": "0135f4ba70fef49db752a533488463101e84d2fb"
   },
   "outputs": [
    {
     "data": {
      "text/plain": [
       "['Plas', 'Pres', 'skin', 'test', 'mass', 'pedi']"
      ]
     },
     "execution_count": 20,
     "metadata": {},
     "output_type": "execute_result"
    }
   ],
   "source": [
    "# Hence, we will get the imputer to run on the relevant columns only.\n",
    "from sklearn.impute import SimpleImputer\n",
    "imp = SimpleImputer(missing_values = 0,  strategy = \"median\")\n",
    "\n",
    "# by default, it imputes np.nan missing value with mean or median\n",
    "# in this case, we want to impute 0 with mean or median\n",
    "# for a column with high and low values, use median because it is not affected by outliers\n",
    "\n",
    "cols = list(X.drop([\"Preg\", \"age\"], axis = 1).columns)\n",
    "cols"
   ]
  },
  {
   "cell_type": "code",
   "execution_count": 21,
   "metadata": {},
   "outputs": [
    {
     "data": {
      "text/html": [
       "<div>\n",
       "<style scoped>\n",
       "    .dataframe tbody tr th:only-of-type {\n",
       "        vertical-align: middle;\n",
       "    }\n",
       "\n",
       "    .dataframe tbody tr th {\n",
       "        vertical-align: top;\n",
       "    }\n",
       "\n",
       "    .dataframe thead th {\n",
       "        text-align: right;\n",
       "    }\n",
       "</style>\n",
       "<table border=\"1\" class=\"dataframe\">\n",
       "  <thead>\n",
       "    <tr style=\"text-align: right;\">\n",
       "      <th></th>\n",
       "      <th>Plas</th>\n",
       "      <th>Pres</th>\n",
       "      <th>skin</th>\n",
       "      <th>test</th>\n",
       "      <th>mass</th>\n",
       "      <th>pedi</th>\n",
       "    </tr>\n",
       "  </thead>\n",
       "  <tbody>\n",
       "    <tr>\n",
       "      <th>22</th>\n",
       "      <td>196</td>\n",
       "      <td>90</td>\n",
       "      <td>0</td>\n",
       "      <td>0</td>\n",
       "      <td>39.8</td>\n",
       "      <td>0.451</td>\n",
       "    </tr>\n",
       "    <tr>\n",
       "      <th>497</th>\n",
       "      <td>81</td>\n",
       "      <td>72</td>\n",
       "      <td>15</td>\n",
       "      <td>76</td>\n",
       "      <td>30.1</td>\n",
       "      <td>0.547</td>\n",
       "    </tr>\n",
       "    <tr>\n",
       "      <th>395</th>\n",
       "      <td>127</td>\n",
       "      <td>58</td>\n",
       "      <td>24</td>\n",
       "      <td>275</td>\n",
       "      <td>27.7</td>\n",
       "      <td>1.600</td>\n",
       "    </tr>\n",
       "    <tr>\n",
       "      <th>381</th>\n",
       "      <td>105</td>\n",
       "      <td>68</td>\n",
       "      <td>22</td>\n",
       "      <td>0</td>\n",
       "      <td>20.0</td>\n",
       "      <td>0.236</td>\n",
       "    </tr>\n",
       "    <tr>\n",
       "      <th>258</th>\n",
       "      <td>193</td>\n",
       "      <td>50</td>\n",
       "      <td>16</td>\n",
       "      <td>375</td>\n",
       "      <td>25.9</td>\n",
       "      <td>0.655</td>\n",
       "    </tr>\n",
       "    <tr>\n",
       "      <th>...</th>\n",
       "      <td>...</td>\n",
       "      <td>...</td>\n",
       "      <td>...</td>\n",
       "      <td>...</td>\n",
       "      <td>...</td>\n",
       "      <td>...</td>\n",
       "    </tr>\n",
       "    <tr>\n",
       "      <th>456</th>\n",
       "      <td>135</td>\n",
       "      <td>54</td>\n",
       "      <td>0</td>\n",
       "      <td>0</td>\n",
       "      <td>26.7</td>\n",
       "      <td>0.687</td>\n",
       "    </tr>\n",
       "    <tr>\n",
       "      <th>435</th>\n",
       "      <td>141</td>\n",
       "      <td>0</td>\n",
       "      <td>0</td>\n",
       "      <td>0</td>\n",
       "      <td>42.4</td>\n",
       "      <td>0.205</td>\n",
       "    </tr>\n",
       "    <tr>\n",
       "      <th>398</th>\n",
       "      <td>82</td>\n",
       "      <td>70</td>\n",
       "      <td>0</td>\n",
       "      <td>0</td>\n",
       "      <td>21.1</td>\n",
       "      <td>0.389</td>\n",
       "    </tr>\n",
       "    <tr>\n",
       "      <th>48</th>\n",
       "      <td>103</td>\n",
       "      <td>66</td>\n",
       "      <td>32</td>\n",
       "      <td>0</td>\n",
       "      <td>39.1</td>\n",
       "      <td>0.344</td>\n",
       "    </tr>\n",
       "    <tr>\n",
       "      <th>294</th>\n",
       "      <td>161</td>\n",
       "      <td>50</td>\n",
       "      <td>0</td>\n",
       "      <td>0</td>\n",
       "      <td>21.9</td>\n",
       "      <td>0.254</td>\n",
       "    </tr>\n",
       "  </tbody>\n",
       "</table>\n",
       "<p>614 rows × 6 columns</p>\n",
       "</div>"
      ],
      "text/plain": [
       "     Plas  Pres  skin  test  mass   pedi\n",
       "22    196    90     0     0  39.8  0.451\n",
       "497    81    72    15    76  30.1  0.547\n",
       "395   127    58    24   275  27.7  1.600\n",
       "381   105    68    22     0  20.0  0.236\n",
       "258   193    50    16   375  25.9  0.655\n",
       "..    ...   ...   ...   ...   ...    ...\n",
       "456   135    54     0     0  26.7  0.687\n",
       "435   141     0     0     0  42.4  0.205\n",
       "398    82    70     0     0  21.1  0.389\n",
       "48    103    66    32     0  39.1  0.344\n",
       "294   161    50     0     0  21.9  0.254\n",
       "\n",
       "[614 rows x 6 columns]"
      ]
     },
     "execution_count": 21,
     "metadata": {},
     "output_type": "execute_result"
    }
   ],
   "source": [
    "x_train[cols]"
   ]
  },
  {
   "cell_type": "code",
   "execution_count": 22,
   "metadata": {},
   "outputs": [],
   "source": [
    "x_train[cols] = imp.fit_transform(x_train[cols])\n",
    "x_test[cols] = imp.transform(x_test[cols])"
   ]
  },
  {
   "cell_type": "code",
   "execution_count": 23,
   "metadata": {},
   "outputs": [
    {
     "data": {
      "text/html": [
       "<div>\n",
       "<style scoped>\n",
       "    .dataframe tbody tr th:only-of-type {\n",
       "        vertical-align: middle;\n",
       "    }\n",
       "\n",
       "    .dataframe tbody tr th {\n",
       "        vertical-align: top;\n",
       "    }\n",
       "\n",
       "    .dataframe thead th {\n",
       "        text-align: right;\n",
       "    }\n",
       "</style>\n",
       "<table border=\"1\" class=\"dataframe\">\n",
       "  <thead>\n",
       "    <tr style=\"text-align: right;\">\n",
       "      <th></th>\n",
       "      <th>count</th>\n",
       "      <th>mean</th>\n",
       "      <th>std</th>\n",
       "      <th>min</th>\n",
       "      <th>25%</th>\n",
       "      <th>50%</th>\n",
       "      <th>75%</th>\n",
       "      <th>max</th>\n",
       "    </tr>\n",
       "  </thead>\n",
       "  <tbody>\n",
       "    <tr>\n",
       "      <th>Preg</th>\n",
       "      <td>614.0</td>\n",
       "      <td>3.982085</td>\n",
       "      <td>3.430694</td>\n",
       "      <td>0.000</td>\n",
       "      <td>1.0000</td>\n",
       "      <td>3.0000</td>\n",
       "      <td>6.000</td>\n",
       "      <td>17.00</td>\n",
       "    </tr>\n",
       "    <tr>\n",
       "      <th>Plas</th>\n",
       "      <td>614.0</td>\n",
       "      <td>121.640065</td>\n",
       "      <td>29.980675</td>\n",
       "      <td>44.000</td>\n",
       "      <td>100.0000</td>\n",
       "      <td>118.0000</td>\n",
       "      <td>139.750</td>\n",
       "      <td>199.00</td>\n",
       "    </tr>\n",
       "    <tr>\n",
       "      <th>Pres</th>\n",
       "      <td>614.0</td>\n",
       "      <td>72.703583</td>\n",
       "      <td>12.291461</td>\n",
       "      <td>24.000</td>\n",
       "      <td>65.0000</td>\n",
       "      <td>72.0000</td>\n",
       "      <td>80.000</td>\n",
       "      <td>122.00</td>\n",
       "    </tr>\n",
       "    <tr>\n",
       "      <th>skin</th>\n",
       "      <td>614.0</td>\n",
       "      <td>29.768730</td>\n",
       "      <td>8.863581</td>\n",
       "      <td>7.000</td>\n",
       "      <td>26.0000</td>\n",
       "      <td>30.0000</td>\n",
       "      <td>33.000</td>\n",
       "      <td>99.00</td>\n",
       "    </tr>\n",
       "    <tr>\n",
       "      <th>test</th>\n",
       "      <td>614.0</td>\n",
       "      <td>139.392508</td>\n",
       "      <td>84.507646</td>\n",
       "      <td>14.000</td>\n",
       "      <td>125.5000</td>\n",
       "      <td>125.5000</td>\n",
       "      <td>125.500</td>\n",
       "      <td>846.00</td>\n",
       "    </tr>\n",
       "    <tr>\n",
       "      <th>mass</th>\n",
       "      <td>614.0</td>\n",
       "      <td>32.366775</td>\n",
       "      <td>6.772832</td>\n",
       "      <td>18.200</td>\n",
       "      <td>27.5000</td>\n",
       "      <td>32.0000</td>\n",
       "      <td>36.300</td>\n",
       "      <td>67.10</td>\n",
       "    </tr>\n",
       "    <tr>\n",
       "      <th>pedi</th>\n",
       "      <td>614.0</td>\n",
       "      <td>0.477850</td>\n",
       "      <td>0.342000</td>\n",
       "      <td>0.078</td>\n",
       "      <td>0.2415</td>\n",
       "      <td>0.3745</td>\n",
       "      <td>0.618</td>\n",
       "      <td>2.42</td>\n",
       "    </tr>\n",
       "    <tr>\n",
       "      <th>age</th>\n",
       "      <td>614.0</td>\n",
       "      <td>33.558632</td>\n",
       "      <td>11.884531</td>\n",
       "      <td>21.000</td>\n",
       "      <td>24.0000</td>\n",
       "      <td>30.0000</td>\n",
       "      <td>41.000</td>\n",
       "      <td>81.00</td>\n",
       "    </tr>\n",
       "  </tbody>\n",
       "</table>\n",
       "</div>"
      ],
      "text/plain": [
       "      count        mean        std     min       25%       50%      75%  \\\n",
       "Preg  614.0    3.982085   3.430694   0.000    1.0000    3.0000    6.000   \n",
       "Plas  614.0  121.640065  29.980675  44.000  100.0000  118.0000  139.750   \n",
       "Pres  614.0   72.703583  12.291461  24.000   65.0000   72.0000   80.000   \n",
       "skin  614.0   29.768730   8.863581   7.000   26.0000   30.0000   33.000   \n",
       "test  614.0  139.392508  84.507646  14.000  125.5000  125.5000  125.500   \n",
       "mass  614.0   32.366775   6.772832  18.200   27.5000   32.0000   36.300   \n",
       "pedi  614.0    0.477850   0.342000   0.078    0.2415    0.3745    0.618   \n",
       "age   614.0   33.558632  11.884531  21.000   24.0000   30.0000   41.000   \n",
       "\n",
       "         max  \n",
       "Preg   17.00  \n",
       "Plas  199.00  \n",
       "Pres  122.00  \n",
       "skin   99.00  \n",
       "test  846.00  \n",
       "mass   67.10  \n",
       "pedi    2.42  \n",
       "age    81.00  "
      ]
     },
     "execution_count": 23,
     "metadata": {},
     "output_type": "execute_result"
    }
   ],
   "source": [
    "x_train.describe().T"
   ]
  },
  {
   "cell_type": "code",
   "execution_count": 24,
   "metadata": {},
   "outputs": [],
   "source": [
    "### Normalize the data\n",
    "from sklearn.preprocessing import StandardScaler\n",
    "scaler = StandardScaler()\n",
    "x_train_sd = scaler.fit_transform(x_train)\n",
    "x_test_sd = scaler.transform(x_test)"
   ]
  },
  {
   "cell_type": "markdown",
   "metadata": {
    "_execution_state": "idle",
    "_uuid": "da6c25c6f1a37920aa7eba1f5613b76cf50eea1b"
   },
   "source": [
    "# Logistic Regression"
   ]
  },
  {
   "cell_type": "code",
   "execution_count": 25,
   "metadata": {
    "_execution_state": "idle",
    "_uuid": "457aeceed9af02bc850c6c982371b55fe87e4d44"
   },
   "outputs": [
    {
     "data": {
      "text/html": [
       "<style>#sk-container-id-1 {color: black;background-color: white;}#sk-container-id-1 pre{padding: 0;}#sk-container-id-1 div.sk-toggleable {background-color: white;}#sk-container-id-1 label.sk-toggleable__label {cursor: pointer;display: block;width: 100%;margin-bottom: 0;padding: 0.3em;box-sizing: border-box;text-align: center;}#sk-container-id-1 label.sk-toggleable__label-arrow:before {content: \"▸\";float: left;margin-right: 0.25em;color: #696969;}#sk-container-id-1 label.sk-toggleable__label-arrow:hover:before {color: black;}#sk-container-id-1 div.sk-estimator:hover label.sk-toggleable__label-arrow:before {color: black;}#sk-container-id-1 div.sk-toggleable__content {max-height: 0;max-width: 0;overflow: hidden;text-align: left;background-color: #f0f8ff;}#sk-container-id-1 div.sk-toggleable__content pre {margin: 0.2em;color: black;border-radius: 0.25em;background-color: #f0f8ff;}#sk-container-id-1 input.sk-toggleable__control:checked~div.sk-toggleable__content {max-height: 200px;max-width: 100%;overflow: auto;}#sk-container-id-1 input.sk-toggleable__control:checked~label.sk-toggleable__label-arrow:before {content: \"▾\";}#sk-container-id-1 div.sk-estimator input.sk-toggleable__control:checked~label.sk-toggleable__label {background-color: #d4ebff;}#sk-container-id-1 div.sk-label input.sk-toggleable__control:checked~label.sk-toggleable__label {background-color: #d4ebff;}#sk-container-id-1 input.sk-hidden--visually {border: 0;clip: rect(1px 1px 1px 1px);clip: rect(1px, 1px, 1px, 1px);height: 1px;margin: -1px;overflow: hidden;padding: 0;position: absolute;width: 1px;}#sk-container-id-1 div.sk-estimator {font-family: monospace;background-color: #f0f8ff;border: 1px dotted black;border-radius: 0.25em;box-sizing: border-box;margin-bottom: 0.5em;}#sk-container-id-1 div.sk-estimator:hover {background-color: #d4ebff;}#sk-container-id-1 div.sk-parallel-item::after {content: \"\";width: 100%;border-bottom: 1px solid gray;flex-grow: 1;}#sk-container-id-1 div.sk-label:hover label.sk-toggleable__label {background-color: #d4ebff;}#sk-container-id-1 div.sk-serial::before {content: \"\";position: absolute;border-left: 1px solid gray;box-sizing: border-box;top: 0;bottom: 0;left: 50%;z-index: 0;}#sk-container-id-1 div.sk-serial {display: flex;flex-direction: column;align-items: center;background-color: white;padding-right: 0.2em;padding-left: 0.2em;position: relative;}#sk-container-id-1 div.sk-item {position: relative;z-index: 1;}#sk-container-id-1 div.sk-parallel {display: flex;align-items: stretch;justify-content: center;background-color: white;position: relative;}#sk-container-id-1 div.sk-item::before, #sk-container-id-1 div.sk-parallel-item::before {content: \"\";position: absolute;border-left: 1px solid gray;box-sizing: border-box;top: 0;bottom: 0;left: 50%;z-index: -1;}#sk-container-id-1 div.sk-parallel-item {display: flex;flex-direction: column;z-index: 1;position: relative;background-color: white;}#sk-container-id-1 div.sk-parallel-item:first-child::after {align-self: flex-end;width: 50%;}#sk-container-id-1 div.sk-parallel-item:last-child::after {align-self: flex-start;width: 50%;}#sk-container-id-1 div.sk-parallel-item:only-child::after {width: 0;}#sk-container-id-1 div.sk-dashed-wrapped {border: 1px dashed gray;margin: 0 0.4em 0.5em 0.4em;box-sizing: border-box;padding-bottom: 0.4em;background-color: white;}#sk-container-id-1 div.sk-label label {font-family: monospace;font-weight: bold;display: inline-block;line-height: 1.2em;}#sk-container-id-1 div.sk-label-container {text-align: center;}#sk-container-id-1 div.sk-container {/* jupyter's `normalize.less` sets `[hidden] { display: none; }` but bootstrap.min.css set `[hidden] { display: none !important; }` so we also need the `!important` here to be able to override the default hidden behavior on the sphinx rendered scikit-learn.org. See: https://github.com/scikit-learn/scikit-learn/issues/21755 */display: inline-block !important;position: relative;}#sk-container-id-1 div.sk-text-repr-fallback {display: none;}</style><div id=\"sk-container-id-1\" class=\"sk-top-container\"><div class=\"sk-text-repr-fallback\"><pre>LogisticRegression()</pre><b>In a Jupyter environment, please rerun this cell to show the HTML representation or trust the notebook. <br />On GitHub, the HTML representation is unable to render, please try loading this page with nbviewer.org.</b></div><div class=\"sk-container\" hidden><div class=\"sk-item\"><div class=\"sk-estimator sk-toggleable\"><input class=\"sk-toggleable__control sk-hidden--visually\" id=\"sk-estimator-id-1\" type=\"checkbox\" checked><label for=\"sk-estimator-id-1\" class=\"sk-toggleable__label sk-toggleable__label-arrow\">LogisticRegression</label><div class=\"sk-toggleable__content\"><pre>LogisticRegression()</pre></div></div></div></div></div>"
      ],
      "text/plain": [
       "LogisticRegression()"
      ]
     },
     "execution_count": 25,
     "metadata": {},
     "output_type": "execute_result"
    }
   ],
   "source": [
    "from sklearn.linear_model import LogisticRegression\n",
    "log_reg = LogisticRegression()\n",
    "\n",
    "# an advantage of logistic regression is that it has rigde and lasso incorporated in it\n",
    "# Penalty L2 is similar ridge is doing\n",
    "# penalty l1 is similar to wjhat lasso is doing\n",
    "# C is inversely proportional to alpha used in lasso and ridge for regulaization\n",
    "# the lesser the value of C, the more the regularization applied\n",
    "# if you cant to reduce the complexity of amodel, reduce the value of C\n",
    "# the default of C is 1\n",
    "# solver is an algorithm that is optimizing the model so as to improve the performance by reducing the errors it is making\n",
    "# class_weight: helps to tackle imbalance data by addressing the fewer ones since they are the ones we need\n",
    "\n",
    "log_reg.fit(x_train_sd, y_train)"
   ]
  },
  {
   "cell_type": "code",
   "execution_count": 26,
   "metadata": {},
   "outputs": [
    {
     "name": "stdout",
     "output_type": "stream",
     "text": [
      "Train Performance: 0.770\n",
      "Test Performance: 0.773\n"
     ]
    }
   ],
   "source": [
    "# check for accuracy\n",
    "print(\"Train Performance: {:.3f}\".format(log_reg.score(x_train_sd, y_train)))\n",
    "print(\"Test Performance: {:.3f}\".format(log_reg.score(x_test_sd, y_test)))"
   ]
  },
  {
   "cell_type": "markdown",
   "metadata": {},
   "source": [
    "- if we have a data with similar distribution, this model will correctly predict whether a patient have diabetes or not 77% of the time\n",
    "- in reality, we are not sure if this performance is realiable. If we have an imbalanced data, accuracy is not the best metric to use to interpret the data. In fact it could be the worse because The module can be very accurate but actually, it is only accurate on the majority class. It is only predicting well those classes that occur the most i.e. not diabetic. This is where metric like confusion matrix, precision, recall, f1 come in - for imbalanced data"
   ]
  },
  {
   "cell_type": "code",
   "execution_count": 27,
   "metadata": {},
   "outputs": [
    {
     "data": {
      "text/plain": [
       "array([[ 0.39458815,  1.00298618, -0.05306573,  0.06154125,  0.02115535,\n",
       "         0.54203119,  0.28625423,  0.2181332 ]])"
      ]
     },
     "execution_count": 27,
     "metadata": {},
     "output_type": "execute_result"
    }
   ],
   "source": [
    "log_reg.coef_"
   ]
  },
  {
   "cell_type": "markdown",
   "metadata": {},
   "source": [
    "- this coeffiecient represent hyperparameters for each feature\n",
    "- it describes the odds or log odds"
   ]
  },
  {
   "cell_type": "markdown",
   "metadata": {},
   "source": [
    "#### Inbalalance Data Problem\n",
    "Imbalance data or classes occurs when there is disproportionate ratio of observations in each class of target\n",
    "\n",
    "How to treat imbalanced data\n",
    "- change the performance metric - use precision, recall and F1 instead of accuracy\n",
    "- change the algorithm (e.g. use tree based models)\n",
    "- resampling techniques - oversample the minority (here we generate synthetic data if 100 have diabetics we oversamply the 100 to match 900;  undersample the majority class (here instead of generating fake data, we focous on the majority and undersample them e.g from 900 to 100. these 2 techniques could lead to underfitting or overfitting becasuse we have refuce the information\n",
    "- Generate synthetic sample - e.g. Synthetic Minority Oversampling Technique (SMOTE) -this helps in balancing both oversampling and undersampling. it randomly select one of the minority class and look for it's nearest neighbour ie. those with its similar characteristics"
   ]
  },
  {
   "cell_type": "markdown",
   "metadata": {},
   "source": [
    "#### Over-sampling and it's effect\n",
    "\n",
    "- Generating more of the minority class\n",
    "- it can be a good choice when you dont have a ton of data to work with\n",
    "- ensure you split data to train and test before oversampling techniques otherwise it will allow exact same data (duplicates) to be present in both training and testing and the model will end up overfitting by giving poor result on the test sample \n",
    "\n",
    "#### Under-sampling and it's effect\n",
    "- removing from obsrvations from the majority class\n",
    "- It can be a good choice when you have a very large amount of data\n",
    "- a major drawback is that we are removing information that may be valuable\n",
    "- this could lead to underfitting a poor generalization of the test set\n",
    "\n",
    "#### SMOTE\n",
    "- Works by selecting samples that are close in the features space, drawing a line between the feature space and drawing a new example at a point along that line\n",
    "- specifically, a randon example is selected from the minority class-  in this case, dont who have diabetes; then it is going to chooose some number of neighbor who are closed to that minority i.e. other patients e.g. 5 who have similar characteristics with the patient we chose; among the 5, a ramdonly selected neighbour is chosen then used to generate artificial data\n",
    "- the K of the nearest neighbors for that example are found (typically k = 5)\n",
    "- a ramdomly selected neighbour is chosen and a synthetic example is created at a randomly selected point between the two examples in feature space\n",
    "\n",
    "forms of SMOTE\n",
    "1. Botherline: instead of generating samples that have characterstics of both majority and minority, it creates a bother point to generate effective samples. The bother point learly seperates those the minority from the majority\n",
    "\n",
    "2. ADASYN: more effective;focuses more of the ones that are less densely populated and does what SMOTE is doing by finding nearest neighbours"
   ]
  },
  {
   "cell_type": "markdown",
   "metadata": {},
   "source": [
    "### Logistic Regression Metrics\n",
    "They are always focusing on the positive / minority class\n",
    "\n",
    "1. Precision: it's about prediction of the minority class from the population. Here you are concerned about the minority class. The formular is TP/ (TP + FP). out of all the people the model predicted to have diabetes, it only got 60 percent correctly\n",
    "\n",
    "2. Recall / Sensitivity / True Positive Rate: it's about prediction of the minority class from the minority. out of all the people who have diabetes in the actually data how many did the model predict correctly? The formular is TP/ (TP + FN). Out of all the patients who have diabetes in the data, the model got 40 percent correctly. Most times, we are always concerned about recall\n",
    "\n",
    "3. F1 (amonic mean): combination of precison and recall: F1 = 2PR / (P +R). So must times, we just interpret Precision and Recall\n",
    "\n",
    "4. Confusion Matrix: a table of 4 different portions -\n",
    "- True positive TP: when the model is making the correct positive prediction,  e.g. if you are pregnant and the model says youre pregnant\n",
    "\n",
    "-  True negative TN: when the model is making the correct negative prediction: if you're not pregnant and it says you're actually not pregnant\n",
    "\n",
    "- False positive FP: when the model is making mistakes e.g. you're not pregant and it is saying youre pregnant. When you are minimzing the False Positive FP, you are optimizing the precision\n",
    "\n",
    "- False negative FN: you're pregnant and it's saying youre not pregnant. This error is risky in the industry.The aim is minimize the error of wrongly classifying the minority i.e. those who are pregnant, have diabetes to not having. Hence recall metric should be optimized/ improved because it is the one that deals with the False Negative FN. \n",
    "\n"
   ]
  },
  {
   "cell_type": "code",
   "execution_count": 28,
   "metadata": {},
   "outputs": [
    {
     "data": {
      "text/plain": [
       "0.7435897435897436"
      ]
     },
     "execution_count": 28,
     "metadata": {},
     "output_type": "execute_result"
    }
   ],
   "source": [
    "### Precision\n",
    "from sklearn.metrics import accuracy_score, f1_score, precision_score, recall_score, classification_report, confusion_matrix\n",
    "test_preds = log_reg.predict(x_test_sd)\n",
    "precision = precision_score(y_test, test_preds)\n",
    "precision"
   ]
  },
  {
   "cell_type": "markdown",
   "metadata": {},
   "source": [
    "- out of all the patients that the model predicted to have diabetes, 74% of them were predicted correctly. 74% were rightly predicted to have diabetes while 26% were wrongly predicted to have diabetes"
   ]
  },
  {
   "cell_type": "code",
   "execution_count": 29,
   "metadata": {},
   "outputs": [
    {
     "data": {
      "text/plain": [
       "0.5370370370370371"
      ]
     },
     "execution_count": 29,
     "metadata": {},
     "output_type": "execute_result"
    }
   ],
   "source": [
    "### Recall\n",
    "recall = recall_score(y_test, test_preds)\n",
    "recall"
   ]
  },
  {
   "cell_type": "markdown",
   "metadata": {},
   "source": [
    "- out of all the actual people who have diabetes, the model only predicted 54% of them correctly. 46% remaining people who actually have diabetes were not predicted by the model"
   ]
  },
  {
   "cell_type": "markdown",
   "metadata": {},
   "source": [
    "#### Confusion Matrix"
   ]
  },
  {
   "cell_type": "code",
   "execution_count": null,
   "metadata": {
    "scrolled": true
   },
   "outputs": [],
   "source": []
  },
  {
   "cell_type": "markdown",
   "metadata": {
    "_execution_state": "idle",
    "_uuid": "47745b3567079b6e08009906a5c5b187d79b9dcd"
   },
   "source": [
    "The confusion matrix\n",
    "\n",
    "True Positives (TP): we correctly predicted that they do have diabetes 50\n",
    "\n",
    "True Negatives (TN): we correctly predicted that they don't have diabetes 131\n",
    "\n",
    "False Positives (FP): we incorrectly predicted that they do have diabetes (a \"Type I error\") 15 Falsely predict positive Type I error\n",
    "\n",
    "False Negatives (FN): we incorrectly predicted that they don't have diabetes (a \"Type II error\") 35 Falsely predict negative Type II error"
   ]
  },
  {
   "cell_type": "code",
   "execution_count": 30,
   "metadata": {},
   "outputs": [],
   "source": [
    "# import required metrics\n",
    "from sklearn.metrics import (precision_score,\n",
    "                            recall_score,\n",
    "                            f1_score,\n",
    "                            accuracy_score,\n",
    "                            precision_recall_curve,\n",
    "                            roc_auc_score,\n",
    "                            ConfusionMatrixDisplay,\n",
    "                            confusion_matrix,\n",
    "                            roc_curve)"
   ]
  },
  {
   "cell_type": "code",
   "execution_count": 31,
   "metadata": {},
   "outputs": [],
   "source": [
    "log_reg = LogisticRegression(random_state = 0)"
   ]
  },
  {
   "cell_type": "code",
   "execution_count": 32,
   "metadata": {},
   "outputs": [],
   "source": [
    "# function to train a model and compute train accuracy\n",
    "\n",
    "def train(model, X, y):\n",
    "    \"\"\"\n",
    "    function to train the model and compute accuracy\n",
    "    model: model that is not yet trained\n",
    "    X: train features\n",
    "    y: train target\n",
    "    \"\"\"\n",
    "    trained_model = model.fit(X, y) # training the model\n",
    "    preds = trained_model.predict(X) # making predictions\n",
    "    acc = accuracy_score(y, preds) # computing accuracy\n",
    "    print(f\"Train Accuracy {acc}\") # printing the accuracy\n",
    "    return trained_model # allows the function to return a trained model"
   ]
  },
  {
   "cell_type": "code",
   "execution_count": 33,
   "metadata": {},
   "outputs": [
    {
     "name": "stdout",
     "output_type": "stream",
     "text": [
      "Train Accuracy 0.7703583061889251\n"
     ]
    }
   ],
   "source": [
    "log_reg_model = train(log_reg, x_train_sd, y_train)"
   ]
  },
  {
   "cell_type": "code",
   "execution_count": 34,
   "metadata": {},
   "outputs": [],
   "source": [
    "# function to evaluate the model and compute metrics on test data\n",
    "\n",
    "def evaluate(model, X, y, threshold = 0.5):\n",
    "    \"\"\"\n",
    "    function to evaluate our trained model with different metrics\n",
    "    model: trained model(classifier)\n",
    "    X: validation features\n",
    "    y: target in validation data\n",
    "    threshold: value to filter prediction\n",
    "    \n",
    "    \"\"\"\n",
    "    pred_proba= model.predict_proba(X)[:, 1] \n",
    "    # : means all the rows \n",
    "    # 1 means interested in those with diabetes\n",
    "    # we can convert probability to 0 or 1\n",
    "    # any probability less than 0.5 will be 0\n",
    "    # any probalility greater than 0.5 will be 1\n",
    "   \n",
    "    pred_class = np.round(pred_proba > threshold) # convert 0 0r 1\n",
    "    # remember True is 1;False is 0\n",
    "    \n",
    "    acc= accuracy_score(y, pred_class)\n",
    "    recall= recall_score(y, pred_class)\n",
    "    precision= precision_score(y, pred_class)\n",
    "    f1= f1_score(y, pred_class)\n",
    "    \n",
    "    df = pd.DataFrame({\n",
    "        \"Accuracy\":acc,\n",
    "        \"Precision\":precision,\n",
    "        \"Recall\":recall,\n",
    "        \"F1\": f1\n",
    "    }, index = [0])\n",
    "    \n",
    "    conf = confusion_matrix(y, pred_class, labels = [0,1]) # we have just 2 labels\n",
    "    disp = ConfusionMatrixDisplay(conf, display_labels = [0,1]) \n",
    "    disp.plot() # to display confusion matrix\n",
    "    plt.show()\n",
    "    \n",
    "    return df "
   ]
  },
  {
   "cell_type": "code",
   "execution_count": 35,
   "metadata": {},
   "outputs": [
    {
     "data": {
      "text/plain": [
       "array([[0.98554474, 0.01445526],\n",
       "       [0.96692577, 0.03307423],\n",
       "       [0.96988884, 0.03011116],\n",
       "       [0.58616401, 0.41383599],\n",
       "       [0.3208995 , 0.6791005 ],\n",
       "       [0.96276189, 0.03723811],\n",
       "       [0.20305248, 0.79694752],\n",
       "       [0.97327708, 0.02672292],\n",
       "       [0.91052422, 0.08947578],\n",
       "       [0.73174421, 0.26825579],\n",
       "       [0.81046796, 0.18953204],\n",
       "       [0.92328551, 0.07671449],\n",
       "       [0.92844683, 0.07155317],\n",
       "       [0.84141443, 0.15858557],\n",
       "       [0.58717818, 0.41282182],\n",
       "       [0.94100514, 0.05899486],\n",
       "       [0.59022159, 0.40977841],\n",
       "       [0.6704897 , 0.3295103 ],\n",
       "       [0.73022041, 0.26977959],\n",
       "       [0.1237978 , 0.8762022 ],\n",
       "       [0.86714391, 0.13285609],\n",
       "       [0.67365416, 0.32634584],\n",
       "       [0.35245614, 0.64754386],\n",
       "       [0.60657601, 0.39342399],\n",
       "       [0.52550605, 0.47449395],\n",
       "       [0.44575022, 0.55424978],\n",
       "       [0.18742473, 0.81257527],\n",
       "       [0.90654667, 0.09345333],\n",
       "       [0.94001192, 0.05998808],\n",
       "       [0.90676096, 0.09323904],\n",
       "       [0.54894247, 0.45105753],\n",
       "       [0.88347144, 0.11652856],\n",
       "       [0.27996736, 0.72003264],\n",
       "       [0.65892262, 0.34107738],\n",
       "       [0.05554194, 0.94445806],\n",
       "       [0.92661302, 0.07338698],\n",
       "       [0.32946374, 0.67053626],\n",
       "       [0.67885771, 0.32114229],\n",
       "       [0.84230592, 0.15769408],\n",
       "       [0.62448446, 0.37551554],\n",
       "       [0.90915856, 0.09084144],\n",
       "       [0.9502113 , 0.0497887 ],\n",
       "       [0.16666003, 0.83333997],\n",
       "       [0.91868945, 0.08131055],\n",
       "       [0.31539828, 0.68460172],\n",
       "       [0.23850047, 0.76149953],\n",
       "       [0.91134397, 0.08865603],\n",
       "       [0.81445532, 0.18554468],\n",
       "       [0.58470328, 0.41529672],\n",
       "       [0.89837647, 0.10162353],\n",
       "       [0.89294006, 0.10705994],\n",
       "       [0.61785568, 0.38214432],\n",
       "       [0.79335126, 0.20664874],\n",
       "       [0.22246838, 0.77753162],\n",
       "       [0.5963132 , 0.4036868 ],\n",
       "       [0.37535539, 0.62464461],\n",
       "       [0.85273411, 0.14726589],\n",
       "       [0.87388204, 0.12611796],\n",
       "       [0.97643551, 0.02356449],\n",
       "       [0.91489149, 0.08510851],\n",
       "       [0.73889749, 0.26110251],\n",
       "       [0.72247213, 0.27752787],\n",
       "       [0.17564979, 0.82435021],\n",
       "       [0.6985521 , 0.3014479 ],\n",
       "       [0.95453792, 0.04546208],\n",
       "       [0.68053343, 0.31946657],\n",
       "       [0.82661265, 0.17338735],\n",
       "       [0.77219784, 0.22780216],\n",
       "       [0.76576372, 0.23423628],\n",
       "       [0.65763689, 0.34236311],\n",
       "       [0.9547744 , 0.0452256 ],\n",
       "       [0.31891995, 0.68108005],\n",
       "       [0.62337296, 0.37662704],\n",
       "       [0.54453   , 0.45547   ],\n",
       "       [0.66271706, 0.33728294],\n",
       "       [0.77393928, 0.22606072],\n",
       "       [0.91392284, 0.08607716],\n",
       "       [0.96159191, 0.03840809],\n",
       "       [0.90093578, 0.09906422],\n",
       "       [0.19683343, 0.80316657],\n",
       "       [0.93361233, 0.06638767],\n",
       "       [0.56370947, 0.43629053],\n",
       "       [0.16833447, 0.83166553],\n",
       "       [0.77638009, 0.22361991],\n",
       "       [0.10107893, 0.89892107],\n",
       "       [0.04039265, 0.95960735],\n",
       "       [0.65950711, 0.34049289],\n",
       "       [0.95535329, 0.04464671],\n",
       "       [0.34523786, 0.65476214],\n",
       "       [0.95366846, 0.04633154],\n",
       "       [0.90973342, 0.09026658],\n",
       "       [0.96185367, 0.03814633],\n",
       "       [0.97916508, 0.02083492],\n",
       "       [0.17166357, 0.82833643],\n",
       "       [0.25051761, 0.74948239],\n",
       "       [0.74546095, 0.25453905],\n",
       "       [0.2726179 , 0.7273821 ],\n",
       "       [0.10929704, 0.89070296],\n",
       "       [0.85526759, 0.14473241],\n",
       "       [0.74093924, 0.25906076],\n",
       "       [0.3463502 , 0.6536498 ],\n",
       "       [0.94963784, 0.05036216],\n",
       "       [0.78183427, 0.21816573],\n",
       "       [0.82539226, 0.17460774],\n",
       "       [0.89898895, 0.10101105],\n",
       "       [0.87142015, 0.12857985],\n",
       "       [0.58774859, 0.41225141],\n",
       "       [0.33047611, 0.66952389],\n",
       "       [0.83243481, 0.16756519],\n",
       "       [0.91476897, 0.08523103],\n",
       "       [0.85270727, 0.14729273],\n",
       "       [0.97046818, 0.02953182],\n",
       "       [0.91532856, 0.08467144],\n",
       "       [0.13029085, 0.86970915],\n",
       "       [0.50707372, 0.49292628],\n",
       "       [0.76407618, 0.23592382],\n",
       "       [0.78140217, 0.21859783],\n",
       "       [0.68832556, 0.31167444],\n",
       "       [0.83653885, 0.16346115],\n",
       "       [0.94991963, 0.05008037],\n",
       "       [0.525995  , 0.474005  ],\n",
       "       [0.87926051, 0.12073949],\n",
       "       [0.10029377, 0.89970623],\n",
       "       [0.89379713, 0.10620287],\n",
       "       [0.5327701 , 0.4672299 ],\n",
       "       [0.93187461, 0.06812539],\n",
       "       [0.75297921, 0.24702079],\n",
       "       [0.16900307, 0.83099693],\n",
       "       [0.86237873, 0.13762127],\n",
       "       [0.77655877, 0.22344123],\n",
       "       [0.60877293, 0.39122707],\n",
       "       [0.52842727, 0.47157273],\n",
       "       [0.8983594 , 0.1016406 ],\n",
       "       [0.29846654, 0.70153346],\n",
       "       [0.49752996, 0.50247004],\n",
       "       [0.110226  , 0.889774  ],\n",
       "       [0.34638432, 0.65361568],\n",
       "       [0.69213899, 0.30786101],\n",
       "       [0.52408556, 0.47591444],\n",
       "       [0.18850118, 0.81149882],\n",
       "       [0.89063211, 0.10936789],\n",
       "       [0.93079275, 0.06920725],\n",
       "       [0.19138863, 0.80861137],\n",
       "       [0.84745251, 0.15254749],\n",
       "       [0.8123043 , 0.1876957 ],\n",
       "       [0.38471862, 0.61528138],\n",
       "       [0.93569264, 0.06430736],\n",
       "       [0.80038187, 0.19961813],\n",
       "       [0.23088562, 0.76911438],\n",
       "       [0.97285174, 0.02714826],\n",
       "       [0.69775513, 0.30224487],\n",
       "       [0.17158524, 0.82841476],\n",
       "       [0.88688493, 0.11311507],\n",
       "       [0.82867209, 0.17132791]])"
      ]
     },
     "execution_count": 35,
     "metadata": {},
     "output_type": "execute_result"
    }
   ],
   "source": [
    "log_reg_model.predict_proba(x_test_sd)"
   ]
  },
  {
   "cell_type": "markdown",
   "metadata": {},
   "source": [
    "- the first one is the one that corresponds to the majority class (no diabetes)\n",
    "- the second one is the one that corresponds to the minority class (have diabetes)"
   ]
  },
  {
   "cell_type": "code",
   "execution_count": 36,
   "metadata": {},
   "outputs": [
    {
     "data": {
      "text/plain": [
       "array([0.01445526, 0.03307423, 0.03011116, 0.41383599, 0.6791005 ,\n",
       "       0.03723811, 0.79694752, 0.02672292, 0.08947578, 0.26825579,\n",
       "       0.18953204, 0.07671449, 0.07155317, 0.15858557, 0.41282182,\n",
       "       0.05899486, 0.40977841, 0.3295103 , 0.26977959, 0.8762022 ,\n",
       "       0.13285609, 0.32634584, 0.64754386, 0.39342399, 0.47449395,\n",
       "       0.55424978, 0.81257527, 0.09345333, 0.05998808, 0.09323904,\n",
       "       0.45105753, 0.11652856, 0.72003264, 0.34107738, 0.94445806,\n",
       "       0.07338698, 0.67053626, 0.32114229, 0.15769408, 0.37551554,\n",
       "       0.09084144, 0.0497887 , 0.83333997, 0.08131055, 0.68460172,\n",
       "       0.76149953, 0.08865603, 0.18554468, 0.41529672, 0.10162353,\n",
       "       0.10705994, 0.38214432, 0.20664874, 0.77753162, 0.4036868 ,\n",
       "       0.62464461, 0.14726589, 0.12611796, 0.02356449, 0.08510851,\n",
       "       0.26110251, 0.27752787, 0.82435021, 0.3014479 , 0.04546208,\n",
       "       0.31946657, 0.17338735, 0.22780216, 0.23423628, 0.34236311,\n",
       "       0.0452256 , 0.68108005, 0.37662704, 0.45547   , 0.33728294,\n",
       "       0.22606072, 0.08607716, 0.03840809, 0.09906422, 0.80316657,\n",
       "       0.06638767, 0.43629053, 0.83166553, 0.22361991, 0.89892107,\n",
       "       0.95960735, 0.34049289, 0.04464671, 0.65476214, 0.04633154,\n",
       "       0.09026658, 0.03814633, 0.02083492, 0.82833643, 0.74948239,\n",
       "       0.25453905, 0.7273821 , 0.89070296, 0.14473241, 0.25906076,\n",
       "       0.6536498 , 0.05036216, 0.21816573, 0.17460774, 0.10101105,\n",
       "       0.12857985, 0.41225141, 0.66952389, 0.16756519, 0.08523103,\n",
       "       0.14729273, 0.02953182, 0.08467144, 0.86970915, 0.49292628,\n",
       "       0.23592382, 0.21859783, 0.31167444, 0.16346115, 0.05008037,\n",
       "       0.474005  , 0.12073949, 0.89970623, 0.10620287, 0.4672299 ,\n",
       "       0.06812539, 0.24702079, 0.83099693, 0.13762127, 0.22344123,\n",
       "       0.39122707, 0.47157273, 0.1016406 , 0.70153346, 0.50247004,\n",
       "       0.889774  , 0.65361568, 0.30786101, 0.47591444, 0.81149882,\n",
       "       0.10936789, 0.06920725, 0.80861137, 0.15254749, 0.1876957 ,\n",
       "       0.61528138, 0.06430736, 0.19961813, 0.76911438, 0.02714826,\n",
       "       0.30224487, 0.82841476, 0.11311507, 0.17132791])"
      ]
     },
     "execution_count": 36,
     "metadata": {},
     "output_type": "execute_result"
    }
   ],
   "source": [
    "log_reg_model.predict_proba(x_test_sd)[:, 1]"
   ]
  },
  {
   "cell_type": "markdown",
   "metadata": {},
   "source": [
    "- these are the ones we are interested in - the minority"
   ]
  },
  {
   "cell_type": "code",
   "execution_count": 37,
   "metadata": {},
   "outputs": [
    {
     "data": {
      "text/plain": [
       "680    0.0\n",
       "607    0.0\n",
       "639    0.0\n",
       "638    1.0\n",
       "295    0.0\n",
       "      ... \n",
       "526    0.0\n",
       "685    0.0\n",
       "391    1.0\n",
       "654    0.0\n",
       "315    0.0\n",
       "Name: class, Length: 154, dtype: float16"
      ]
     },
     "execution_count": 37,
     "metadata": {},
     "output_type": "execute_result"
    }
   ],
   "source": [
    "np.round(y_test > log_reg_model.predict_proba(x_test_sd)[:, 1])"
   ]
  },
  {
   "cell_type": "code",
   "execution_count": null,
   "metadata": {},
   "outputs": [],
   "source": []
  },
  {
   "cell_type": "code",
   "execution_count": null,
   "metadata": {},
   "outputs": [],
   "source": []
  },
  {
   "cell_type": "code",
   "execution_count": 38,
   "metadata": {},
   "outputs": [
    {
     "data": {
      "image/png": "[encoded data removed]",
      "text/plain": [
       "<Figure size 432x288 with 2 Axes>"
      ]
     },
     "metadata": {
      "needs_background": "light"
     },
     "output_type": "display_data"
    },
    {
     "data": {
      "text/html": [
       "<div>\n",
       "<style scoped>\n",
       "    .dataframe tbody tr th:only-of-type {\n",
       "        vertical-align: middle;\n",
       "    }\n",
       "\n",
       "    .dataframe tbody tr th {\n",
       "        vertical-align: top;\n",
       "    }\n",
       "\n",
       "    .dataframe thead th {\n",
       "        text-align: right;\n",
       "    }\n",
       "</style>\n",
       "<table border=\"1\" class=\"dataframe\">\n",
       "  <thead>\n",
       "    <tr style=\"text-align: right;\">\n",
       "      <th></th>\n",
       "      <th>Accuracy</th>\n",
       "      <th>Precision</th>\n",
       "      <th>Recall</th>\n",
       "      <th>F1</th>\n",
       "    </tr>\n",
       "  </thead>\n",
       "  <tbody>\n",
       "    <tr>\n",
       "      <th>0</th>\n",
       "      <td>0.772727</td>\n",
       "      <td>0.74359</td>\n",
       "      <td>0.537037</td>\n",
       "      <td>0.623656</td>\n",
       "    </tr>\n",
       "  </tbody>\n",
       "</table>\n",
       "</div>"
      ],
      "text/plain": [
       "   Accuracy  Precision    Recall        F1\n",
       "0  0.772727    0.74359  0.537037  0.623656"
      ]
     },
     "execution_count": 38,
     "metadata": {},
     "output_type": "execute_result"
    }
   ],
   "source": [
    "log_reg_df = evaluate(log_reg_model, x_test_sd, y_test)\n",
    "log_reg_df"
   ]
  },
  {
   "cell_type": "markdown",
   "metadata": {},
   "source": [
    "- TP = 29\n",
    "- TN = 90\n",
    "- FP = 10\n",
    "- FN = 25\n",
    "\n",
    "- out of all the people in the data, the model predicted only 74.3 percent correctly to have diabetes\n",
    "- out of all the people in the data that have diabetes, the model predicted 54 percent correctly - 29 0ut of 29 +10\n",
    "- Out of 54 patients that have diabetes (TP + FN), our model is incorectly saying 25 do not have diabetes\n",
    "- there are 100 who do not have diabetes (TN + FP) , our model is saying 10 people have. the patient is missing 10, that is why the pecision high and recall is low due to lot of FN \n"
   ]
  },
  {
   "cell_type": "markdown",
   "metadata": {},
   "source": [
    "#### ROC-AUC (Receiver Operating Characteristic- Area Under the Curve)\n",
    "it uses score and the goal is to measure how well the model is doing in terms of distinguishing between the two major classes"
   ]
  },
  {
   "cell_type": "code",
   "execution_count": 39,
   "metadata": {},
   "outputs": [
    {
     "data": {
      "text/plain": [
       "0.8753703703703704"
      ]
     },
     "execution_count": 39,
     "metadata": {},
     "output_type": "execute_result"
    }
   ],
   "source": [
    "preds = log_reg_model.predict_proba(x_test_sd)[:,1]\n",
    "roc = roc_auc_score(y_test, preds)\n",
    "roc"
   ]
  },
  {
   "cell_type": "markdown",
   "metadata": {},
   "source": [
    "- approx 88% of time, this model will correctly distinguish patients who do not have diabetes from who have diabetes"
   ]
  },
  {
   "cell_type": "markdown",
   "metadata": {},
   "source": [
    "#### ROC Curve\n",
    "used to generate the curve; it returns three outputs\n",
    "- fpr: first positive rate\n",
    "- tpr: true positive rate\n",
    "- threshhold"
   ]
  },
  {
   "cell_type": "code",
   "execution_count": 40,
   "metadata": {},
   "outputs": [
    {
     "data": {
      "text/plain": [
       "<function matplotlib.pyplot.show(close=None, block=None)>"
      ]
     },
     "execution_count": 40,
     "metadata": {},
     "output_type": "execute_result"
    },
    {
     "data": {
      "image/png": "[encoded data removed]",
      "text/plain": [
       "<Figure size 504x360 with 1 Axes>"
      ]
     },
     "metadata": {
      "needs_background": "light"
     },
     "output_type": "display_data"
    }
   ],
   "source": [
    "fpr, tpr, thre = roc_curve(y_test, preds)\n",
    "auc = roc_auc_score(y_test, preds)\n",
    "plt.figure(figsize = (7,5))\n",
    "plt.plot(fpr, tpr, label = f\"Logistic Regression {auc:.2f}\")\n",
    "plt.plot([0,1],[0,1],\"r--\")\n",
    "plt.xlim([0.0, 1.0])\n",
    "plt.ylim([0.0, 1.05])\n",
    "plt.xlabel(\"False Positive Rate\")\n",
    "plt.ylabel(\"True Positive Rate\")\n",
    "plt.title(\"ROC Curve\")\n",
    "plt.legend(loc = \"lower right\")\n",
    "plt.show"
   ]
  },
  {
   "cell_type": "code",
   "execution_count": 41,
   "metadata": {},
   "outputs": [],
   "source": [
    "# storing it in a function\n",
    "def plot_roc_curve(model , X, y):\n",
    "    \"\"\"\n",
    "    function to create ROC curve\n",
    "    model: trained model\n",
    "    X : test or validation features\n",
    "    y : target in test data\n",
    "    \"\"\"\n",
    "    preds = log_reg_model.predict_proba(X)[: , 1]\n",
    "    auc = roc_auc_score(y, preds)\n",
    "    fpr, tpr, thre = roc_curve(y, preds)\n",
    "    \n",
    "    plt.figure(figsize = (7,5))\n",
    "    plt.plot(fpr, tpr, label = f\"Logistic Regression {auc:.2f}\")\n",
    "    plt.plot([0,1],[0,1],\"r--\")\n",
    "    plt.xlim([0.0, 1.0])\n",
    "    plt.ylim([0.0, 1.05])\n",
    "    plt.xlabel(\"False Positive Rate\")\n",
    "    plt.ylabel(\"True Positive Rate\")\n",
    "    plt.title(\"ROC Curve\")\n",
    "    plt.legend(loc = \"lower right\")\n",
    "    plt.show()\n",
    "    \n",
    "    return thre, tpr, fpr # threshold is what we will be tweaking\n",
    "\n",
    "    # roc curve gives a measure of how well the model will distinguish btw the 2 classes\n",
    "    # roc curve also give the measure of the threshold that it uses\n",
    "    # our duty is to select the best threshold\n",
    "    # the best or optimal threshold is where the difference btw the tpr and fpr is very high\n",
    "    # we need the point where tpr and fpr are very far from each other"
   ]
  },
  {
   "cell_type": "code",
   "execution_count": 42,
   "metadata": {},
   "outputs": [
    {
     "data": {
      "image/png": "[encoded data removed]",
      "text/plain": [
       "<Figure size 504x360 with 1 Axes>"
      ]
     },
     "metadata": {
      "needs_background": "light"
     },
     "output_type": "display_data"
    }
   ],
   "source": [
    "thre, tpr, fpr = plot_roc_curve(log_reg_model, x_test_sd, y_test)"
   ]
  },
  {
   "cell_type": "code",
   "execution_count": 43,
   "metadata": {},
   "outputs": [
    {
     "data": {
      "text/plain": [
       "array([1.95960735, 0.95960735, 0.83166553, 0.83099693, 0.80861137,\n",
       "       0.80316657, 0.76911438, 0.76149953, 0.74948239, 0.7273821 ,\n",
       "       0.72003264, 0.70153346, 0.68108005, 0.6791005 , 0.6536498 ,\n",
       "       0.64754386, 0.62464461, 0.55424978, 0.50247004, 0.47449395,\n",
       "       0.474005  , 0.47157273, 0.4672299 , 0.45547   , 0.43629053,\n",
       "       0.41529672, 0.40977841, 0.4036868 , 0.39342399, 0.38214432,\n",
       "       0.37662704, 0.34236311, 0.33728294, 0.3295103 , 0.32634584,\n",
       "       0.32114229, 0.30786101, 0.26110251, 0.24702079, 0.23592382,\n",
       "       0.22780216, 0.21816573, 0.20664874, 0.15769408, 0.15254749,\n",
       "       0.09906422, 0.09345333, 0.01445526])"
      ]
     },
     "execution_count": 43,
     "metadata": {},
     "output_type": "execute_result"
    }
   ],
   "source": [
    "thre"
   ]
  },
  {
   "cell_type": "markdown",
   "metadata": {},
   "source": [
    "- threshold is between 0 and 1\n",
    "- 1.95960735 means the maximum of what was predicted + 1\n",
    "- all other thresholds apart from 1.95960735 will be used to tweak the model"
   ]
  },
  {
   "cell_type": "markdown",
   "metadata": {},
   "source": [
    "#### Precision-Recall curve\n",
    "used when the goal is to maximize the balance between precision and recall. We want to find a point where the precision is almost the same as recall. We are looking for the threshold at which precision and recall will intercept"
   ]
  },
  {
   "cell_type": "code",
   "execution_count": 45,
   "metadata": {},
   "outputs": [
    {
     "data": {
      "text/plain": [
       "array([0.93252919, 0.05577592, 0.39505221, 0.03550446, 0.67226247,\n",
       "       0.10493426, 0.1149085 , 0.3754016 , 0.19265046, 0.7850717 ,\n",
       "       0.08811469, 0.58672151, 0.6984567 , 0.90873617, 0.1502028 ,\n",
       "       0.30157623, 0.12314616, 0.19923061, 0.3344172 , 0.27572889,\n",
       "       0.06032594, 0.26800911, 0.64997524, 0.73176682, 0.1093232 ,\n",
       "       0.41974476, 0.17949592, 0.13891746, 0.33502881, 0.18493444,\n",
       "       0.10285131, 0.27584106, 0.07141188, 0.53758698, 0.23523452,\n",
       "       0.79306133, 0.04121154, 0.76504385, 0.14842867, 0.116533  ,\n",
       "       0.40719829, 0.28934606, 0.64322074, 0.56393056, 0.60536992,\n",
       "       0.13019205, 0.64322182, 0.40733377, 0.04745643, 0.15212996,\n",
       "       0.66611957, 0.46734386, 0.78522705, 0.40297526, 0.38354532,\n",
       "       0.67085114, 0.04214252, 0.61051496, 0.19628368, 0.27851   ,\n",
       "       0.1557953 , 0.55787593, 0.5587512 , 0.20408923, 0.61428652,\n",
       "       0.4255824 , 0.15953002, 0.05130879, 0.04139809, 0.11508673,\n",
       "       0.41200754, 0.79302248, 0.6286356 , 0.69058811, 0.28132205,\n",
       "       0.31564721, 0.27294633, 0.12069925, 0.44428175, 0.20017239,\n",
       "       0.76810799, 0.86859204, 0.14003877, 0.22015624, 0.1019293 ,\n",
       "       0.04044527, 0.4402226 , 0.91643875, 0.07006948, 0.21667403,\n",
       "       0.66124653, 0.53275301, 0.07282614, 0.13218501, 0.11273076,\n",
       "       0.59105167, 0.80274509, 0.13191379, 0.32920211, 0.16485825,\n",
       "       0.76949672, 0.43955216, 0.15554994, 0.91469455, 0.30585127,\n",
       "       0.53408402, 0.03967392, 0.82395653, 0.65310422, 0.28943796,\n",
       "       0.72478083, 0.48256393, 0.24681225, 0.57702371, 0.1633556 ,\n",
       "       0.0964193 , 0.06335814, 0.01298517, 0.11198079, 0.10632172,\n",
       "       0.03692137, 0.32680696, 0.23400295, 0.40283848, 0.20087361,\n",
       "       0.3198735 , 0.07723147, 0.5063379 , 0.20633747, 0.36597026,\n",
       "       0.24179386, 0.149182  , 0.37465762, 0.4349842 , 0.15052189,\n",
       "       0.24199624, 0.76500304, 0.04721471, 0.58823029, 0.51217227,\n",
       "       0.0847486 , 0.56837305, 0.85353816, 0.63814013, 0.25181839,\n",
       "       0.71826035, 0.3970258 , 0.07131275, 0.06114572, 0.46186336,\n",
       "       0.51669544, 0.04597223, 0.09667396, 0.22598453, 0.77713419,\n",
       "       0.39315136, 0.62580078, 0.40933721, 0.31099229, 0.35536277,\n",
       "       0.19096747, 0.13663337, 0.38753372, 0.8758308 , 0.27091407,\n",
       "       0.35702325, 0.94664846, 0.20440452, 0.2513515 , 0.90648621,\n",
       "       0.10757968, 0.25611549, 0.12555435, 0.72704321, 0.05154022,\n",
       "       0.06288449, 0.085303  , 0.59775745, 0.08825437, 0.20335067,\n",
       "       0.07674329, 0.10971074, 0.50386942, 0.13076092, 0.75336192,\n",
       "       0.16718978, 0.10420851, 0.29632497, 0.1635065 , 0.44953743,\n",
       "       0.0431927 , 0.83429442, 0.52229075, 0.59525329, 0.11270645,\n",
       "       0.6799345 , 0.06094675, 0.41766096, 0.18110369, 0.0596267 ,\n",
       "       0.14450153, 0.28787043, 0.32748851, 0.04030643, 0.86370014,\n",
       "       0.91000946, 0.42232819, 0.70627019, 0.92698012, 0.54922414,\n",
       "       0.20224416, 0.04119224, 0.59891213, 0.03210471, 0.66992889,\n",
       "       0.15296118, 0.10535628, 0.1392479 , 0.09122108, 0.87487127,\n",
       "       0.8133598 , 0.13651368, 0.08500837, 0.24664967, 0.89824617,\n",
       "       0.31980085, 0.13902899, 0.6722203 , 0.05715997, 0.05158018,\n",
       "       0.78408544, 0.62178196, 0.30999195, 0.07820876, 0.26309388,\n",
       "       0.24857815, 0.17492773, 0.29484271, 0.11334386, 0.01515613,\n",
       "       0.34064488, 0.29529807, 0.74836605, 0.6574802 , 0.09639352,\n",
       "       0.08050977, 0.15580625, 0.49218207, 0.38889465, 0.109903  ,\n",
       "       0.27807401, 0.06358788, 0.82236542, 0.07631081, 0.07150982,\n",
       "       0.10744739, 0.17194165, 0.37381934, 0.88200589, 0.93884047,\n",
       "       0.11287201, 0.29314776, 0.25019526, 0.76415297, 0.82699112,\n",
       "       0.25501112, 0.23123176, 0.23109796, 0.14250824, 0.68566349,\n",
       "       0.07785325, 0.02308123, 0.77070425, 0.18028858, 0.06804091,\n",
       "       0.07627594, 0.5699448 , 0.6696442 , 0.03298358, 0.07381267,\n",
       "       0.28399259, 0.08684998, 0.76461792, 0.13360269, 0.28296717,\n",
       "       0.05929842, 0.08850554, 0.48052033, 0.2820219 , 0.04784076,\n",
       "       0.14065607, 0.5095443 , 0.16228329, 0.19024506, 0.78807067,\n",
       "       0.41116024, 0.69691625, 0.53105811, 0.49992697, 0.25335838,\n",
       "       0.18283073, 0.0754195 , 0.7116466 , 0.05488116, 0.11072173,\n",
       "       0.34328876, 0.32535544, 0.18996717, 0.12957086, 0.17211852,\n",
       "       0.55191624, 0.09175839, 0.04073304, 0.35832411, 0.10290257,\n",
       "       0.34152948, 0.7317359 , 0.07676854, 0.72067882, 0.87425291,\n",
       "       0.27375853, 0.71901646, 0.18367687, 0.17160151, 0.73527322,\n",
       "       0.77880025, 0.46968406, 0.27961229, 0.22708619, 0.14319165,\n",
       "       0.29266258, 0.18525029, 0.87590388, 0.18844055, 0.33621666,\n",
       "       0.29042244, 0.37278017, 0.0670967 , 0.28804691, 0.06581174,\n",
       "       0.0958879 , 0.21344549, 0.34702768, 0.86159255, 0.61924615,\n",
       "       0.21086801, 0.49229283, 0.01625371, 0.04702546, 0.10625133,\n",
       "       0.09762881, 0.03269331, 0.12551537, 0.16153516, 0.11938889,\n",
       "       0.88429046, 0.04873383, 0.07608959, 0.06231727, 0.02032705,\n",
       "       0.14539848, 0.9291897 , 0.38908413, 0.03919144, 0.27218319,\n",
       "       0.21768167, 0.79449204, 0.15019619, 0.33681956, 0.49475271,\n",
       "       0.3887613 , 0.1374629 , 0.3132745 , 0.44245491, 0.0918247 ,\n",
       "       0.27554855, 0.25267272, 0.076504  , 0.87017043, 0.22495741,\n",
       "       0.44665019, 0.05639558, 0.41716378, 0.22864831, 0.08447636,\n",
       "       0.5135203 , 0.26718028, 0.02330318, 0.64142491, 0.12855187,\n",
       "       0.36771745, 0.1882166 , 0.3273151 , 0.48322999, 0.06083676,\n",
       "       0.44379   , 0.23925235, 0.01743147, 0.79140695, 0.0468893 ,\n",
       "       0.73387401, 0.20142982, 0.03560532, 0.1324224 , 0.01826842,\n",
       "       0.08217505, 0.84585176, 0.87720874, 0.05475865, 0.10589902,\n",
       "       0.8006622 , 0.19930647, 0.49398153, 0.33542946, 0.16292455,\n",
       "       0.06643197, 0.20292807, 0.13836266, 0.52414265, 0.95015902,\n",
       "       0.64927852, 0.73825041, 0.31215559, 0.21255576, 0.5130899 ,\n",
       "       0.06009298, 0.54357733, 0.40231052, 0.46238902, 0.27555581,\n",
       "       0.62174669, 0.15599016, 0.15578675, 0.41443649, 0.81961277,\n",
       "       0.33357339, 0.03969417, 0.29179975, 0.13454242, 0.07160329,\n",
       "       0.31661127, 0.23193984, 0.1543804 , 0.11571671, 0.32602809,\n",
       "       0.07082823, 0.76021163, 0.18766765, 0.63745433, 0.05116267,\n",
       "       0.20096558, 0.63005528, 0.44714843, 0.07937589, 0.03732516,\n",
       "       0.13420916, 0.31297502, 0.9557339 , 0.03112498, 0.453088  ,\n",
       "       0.61937156, 0.46036977, 0.9034613 , 0.40474868, 0.69051541,\n",
       "       0.61848355, 0.70992356, 0.08909132, 0.96539905, 0.12736075,\n",
       "       0.29275052, 0.38551616, 0.31304891, 0.08521036, 0.83921387,\n",
       "       0.71560767, 0.15019318, 0.24255278, 0.27454291, 0.0874025 ,\n",
       "       0.51919485, 0.25563959, 0.16557845, 0.12001358, 0.30659311,\n",
       "       0.0383294 , 0.70576461, 0.44478479, 0.12903027, 0.64768341,\n",
       "       0.11085475, 0.10300221, 0.2290059 , 0.43633704, 0.26294695,\n",
       "       0.3423331 , 0.35742643, 0.12415804, 0.60192609, 0.77219609,\n",
       "       0.21414795, 0.59057176, 0.55925545, 0.74709574, 0.8298741 ,\n",
       "       0.85452479, 0.0447504 , 0.40603493, 0.38621095, 0.24547641,\n",
       "       0.04653469, 0.07267414, 0.28992318, 0.04188742, 0.26180133,\n",
       "       0.21022839, 0.39998436, 0.31658421, 0.63190244, 0.147102  ,\n",
       "       0.07770242, 0.11334468, 0.57237843, 0.9886071 , 0.21202035,\n",
       "       0.36172805, 0.89858719, 0.26831533, 0.27294414, 0.20894667,\n",
       "       0.14650775, 0.74467175, 0.10587034, 0.70853582, 0.06227346,\n",
       "       0.20446875, 0.35538886, 0.10191872, 0.12997709, 0.3125858 ,\n",
       "       0.38474251, 0.92897537, 0.09962024, 0.14721061, 0.2152544 ,\n",
       "       0.33384999, 0.50103071, 0.0229983 , 0.49437725, 0.0307046 ,\n",
       "       0.38309276, 0.20163794, 0.61421632, 0.77706392, 0.37136276,\n",
       "       0.84864202, 0.5470743 , 0.29093546, 0.11111678, 0.74958096,\n",
       "       0.05227527, 0.5962923 , 0.15815575, 0.24489634, 0.14428371,\n",
       "       0.21744483, 0.93380587, 0.23089491, 0.19173438, 0.05924008,\n",
       "       0.10320763, 0.87703696, 0.3468435 , 0.08343367, 0.60067632,\n",
       "       0.13941855, 0.22988679, 0.26875608, 0.2816811 , 0.05459321,\n",
       "       0.49214065, 0.17061728, 0.93041272, 0.75613152, 0.95513444,\n",
       "       0.12892491, 0.43719026, 0.97723379, 0.19352912, 0.34102451,\n",
       "       0.0378625 , 0.14731031, 0.1401731 , 0.19747043, 0.19313969,\n",
       "       0.17873647, 0.25392393, 0.07786478, 0.90125513, 0.08983596,\n",
       "       0.86180833, 0.06529916, 0.40902078, 0.33163344, 0.87871275,\n",
       "       0.70123198, 0.7592273 , 0.52532586, 0.39227694, 0.39721208,\n",
       "       0.45970188, 0.03203502, 0.33194794, 0.41666837])"
      ]
     },
     "execution_count": 45,
     "metadata": {},
     "output_type": "execute_result"
    }
   ],
   "source": [
    "# obtain the predicted probabilities\n",
    "prob_train = log_reg_model.predict_proba(x_train_sd)[:,1]\n",
    "prob_train"
   ]
  },
  {
   "cell_type": "code",
   "execution_count": 49,
   "metadata": {},
   "outputs": [
    {
     "data": {
      "text/plain": [
       "array([0.3485342 , 0.34910277, 0.3496732 , 0.3502455 , 0.35081967,\n",
       "       0.35139573, 0.35197368, 0.35255354, 0.35313531, 0.35371901,\n",
       "       0.35430464, 0.35489221, 0.35548173, 0.35607321, 0.35666667,\n",
       "       0.3572621 , 0.35785953, 0.35845896, 0.3590604 , 0.35966387,\n",
       "       0.36026936, 0.3608769 , 0.36148649, 0.36209814, 0.36271186,\n",
       "       0.36332767, 0.36394558, 0.36456559, 0.36518771, 0.36581197,\n",
       "       0.36643836, 0.3670669 , 0.36769759, 0.36833046, 0.36896552,\n",
       "       0.36960276, 0.37024221, 0.37088388, 0.37152778, 0.37217391,\n",
       "       0.3728223 , 0.37347295, 0.37412587, 0.37478109, 0.3754386 ,\n",
       "       0.37609842, 0.37676056, 0.37742504, 0.37809187, 0.37876106,\n",
       "       0.37943262, 0.38010657, 0.38078292, 0.38146168, 0.38214286,\n",
       "       0.38282648, 0.38172043, 0.38240575, 0.38309353, 0.38378378,\n",
       "       0.38447653, 0.38517179, 0.38586957, 0.38656987, 0.38727273,\n",
       "       0.38797814, 0.38868613, 0.38939671, 0.39010989, 0.39082569,\n",
       "       0.39154412, 0.39226519, 0.39298893, 0.39371534, 0.39444444,\n",
       "       0.39517625, 0.39591078, 0.39664804, 0.39738806, 0.39813084,\n",
       "       0.3988764 , 0.39962477, 0.40037594, 0.40112994, 0.40188679,\n",
       "       0.4026465 , 0.40340909, 0.40417457, 0.40494297, 0.40571429,\n",
       "       0.40648855, 0.40726577, 0.40804598, 0.40882917, 0.40961538,\n",
       "       0.41040462, 0.41119691, 0.41199226, 0.4127907 , 0.41359223,\n",
       "       0.41439689, 0.41520468, 0.41601562, 0.41682975, 0.41764706,\n",
       "       0.41846758, 0.41929134, 0.41814596, 0.41897233, 0.41980198,\n",
       "       0.42063492, 0.42147117, 0.42231076, 0.42315369, 0.424     ,\n",
       "       0.4248497 , 0.42570281, 0.42655936, 0.42741935, 0.42828283,\n",
       "       0.4291498 , 0.43002028, 0.43089431, 0.43177189, 0.43265306,\n",
       "       0.43353783, 0.43442623, 0.43531828, 0.43621399, 0.4371134 ,\n",
       "       0.43801653, 0.4389234 , 0.43983402, 0.44074844, 0.44166667,\n",
       "       0.44258873, 0.44351464, 0.44444444, 0.44537815, 0.44631579,\n",
       "       0.44725738, 0.44820296, 0.44915254, 0.45010616, 0.45106383,\n",
       "       0.45202559, 0.4508547 , 0.45182013, 0.4527897 , 0.45376344,\n",
       "       0.45474138, 0.45572354, 0.45454545, 0.45553145, 0.45652174,\n",
       "       0.45751634, 0.45851528, 0.4595186 , 0.45833333, 0.45934066,\n",
       "       0.46035242, 0.46136865, 0.46238938, 0.46119734, 0.46222222,\n",
       "       0.46325167, 0.46428571, 0.46532438, 0.46636771, 0.46741573,\n",
       "       0.46621622, 0.46726862, 0.46606335, 0.46712018, 0.46818182,\n",
       "       0.46697039, 0.46803653, 0.46910755, 0.47018349, 0.47126437,\n",
       "       0.47235023, 0.47344111, 0.47453704, 0.47563805, 0.47674419,\n",
       "       0.47785548, 0.47897196, 0.48009368, 0.48122066, 0.48235294,\n",
       "       0.48349057, 0.4822695 , 0.48341232, 0.48456057, 0.48571429,\n",
       "       0.48687351, 0.48803828, 0.48920863, 0.49038462, 0.48915663,\n",
       "       0.49033816, 0.49152542, 0.49029126, 0.49148418, 0.49268293,\n",
       "       0.49144254, 0.49264706, 0.49140049, 0.49261084, 0.49382716,\n",
       "       0.4950495 , 0.49627792, 0.49751244, 0.49875312, 0.4975    ,\n",
       "       0.49874687, 0.5       , 0.50125945, 0.5       , 0.49873418,\n",
       "       0.5       , 0.50127226, 0.50255102, 0.50383632, 0.50512821,\n",
       "       0.50385604, 0.50257732, 0.50387597, 0.50518135, 0.50649351,\n",
       "       0.50520833, 0.50652742, 0.5078534 , 0.50656168, 0.50526316,\n",
       "       0.50659631, 0.50793651, 0.50928382, 0.5106383 , 0.512     ,\n",
       "       0.51336898, 0.51206434, 0.51344086, 0.5148248 , 0.51621622,\n",
       "       0.51761518, 0.51630435, 0.51771117, 0.51912568, 0.52054795,\n",
       "       0.52197802, 0.52341598, 0.52486188, 0.52631579, 0.525     ,\n",
       "       0.5264624 , 0.52793296, 0.52661064, 0.52808989, 0.52957746,\n",
       "       0.53107345, 0.5325779 , 0.53125   , 0.53276353, 0.53428571,\n",
       "       0.53581662, 0.53735632, 0.5389049 , 0.54046243, 0.53913043,\n",
       "       0.5377907 , 0.5393586 , 0.54093567, 0.53958944, 0.53823529,\n",
       "       0.53687316, 0.53846154, 0.54005935, 0.54166667, 0.54029851,\n",
       "       0.54191617, 0.54354354, 0.54518072, 0.54682779, 0.54848485,\n",
       "       0.55015198, 0.55182927, 0.55351682, 0.55214724, 0.55384615,\n",
       "       0.55555556, 0.55727554, 0.55590062, 0.5576324 , 0.55625   ,\n",
       "       0.55799373, 0.55660377, 0.55520505, 0.55696203, 0.55873016,\n",
       "       0.56050955, 0.56230032, 0.56410256, 0.5659164 , 0.56774194,\n",
       "       0.56634304, 0.56818182, 0.57003257, 0.57189542, 0.57377049,\n",
       "       0.57236842, 0.57425743, 0.57615894, 0.57807309, 0.57666667,\n",
       "       0.57859532, 0.58053691, 0.58249158, 0.58445946, 0.58305085,\n",
       "       0.58503401, 0.58361775, 0.58561644, 0.58762887, 0.58965517,\n",
       "       0.58823529, 0.59027778, 0.58885017, 0.59090909, 0.59298246,\n",
       "       0.5915493 , 0.59363958, 0.59574468, 0.59786477, 0.59642857,\n",
       "       0.59498208, 0.5971223 , 0.59927798, 0.59782609, 0.59636364,\n",
       "       0.59854015, 0.6007326 , 0.59926471, 0.59778598, 0.6       ,\n",
       "       0.60223048, 0.60447761, 0.60674157, 0.60902256, 0.61132075,\n",
       "       0.61363636, 0.61596958, 0.61832061, 0.61685824, 0.61923077,\n",
       "       0.62162162, 0.62015504, 0.62256809, 0.625     , 0.62352941,\n",
       "       0.62598425, 0.62450593, 0.62301587, 0.62549801, 0.628     ,\n",
       "       0.62650602, 0.62903226, 0.63157895, 0.6300813 , 0.63265306,\n",
       "       0.63114754, 0.62962963, 0.62809917, 0.62655602, 0.62916667,\n",
       "       0.63179916, 0.63445378, 0.6371308 , 0.63559322, 0.63829787,\n",
       "       0.63675214, 0.63519313, 0.63793103, 0.64069264, 0.64347826,\n",
       "       0.64628821, 0.64912281, 0.65198238, 0.65044248, 0.64888889,\n",
       "       0.65178571, 0.65022422, 0.65315315, 0.6561086 , 0.65454545,\n",
       "       0.65753425, 0.6559633 , 0.65898618, 0.66203704, 0.66511628,\n",
       "       0.6682243 , 0.6713615 , 0.6745283 , 0.67298578, 0.67619048,\n",
       "       0.67464115, 0.67788462, 0.68115942, 0.67961165, 0.68292683,\n",
       "       0.68137255, 0.68472906, 0.68811881, 0.69154229, 0.69      ,\n",
       "       0.68844221, 0.69191919, 0.69543147, 0.69897959, 0.6974359 ,\n",
       "       0.70103093, 0.69948187, 0.69791667, 0.70157068, 0.7       ,\n",
       "       0.7037037 , 0.70212766, 0.70588235, 0.70967742, 0.71351351,\n",
       "       0.71195652, 0.71038251, 0.70879121, 0.71270718, 0.71111111,\n",
       "       0.70949721, 0.70786517, 0.71186441, 0.71022727, 0.71428571,\n",
       "       0.71264368, 0.71098266, 0.71511628, 0.71345029, 0.71176471,\n",
       "       0.71597633, 0.71428571, 0.71856287, 0.71686747, 0.72121212,\n",
       "       0.7195122 , 0.71779141, 0.71604938, 0.72049689, 0.71875   ,\n",
       "       0.72327044, 0.7278481 , 0.73248408, 0.73076923, 0.72903226,\n",
       "       0.73376623, 0.73856209, 0.73684211, 0.73509934, 0.74      ,\n",
       "       0.74496644, 0.75      , 0.75510204, 0.75342466, 0.75172414,\n",
       "       0.75694444, 0.76223776, 0.76056338, 0.76595745, 0.76428571,\n",
       "       0.76978417, 0.76811594, 0.76642336, 0.76470588, 0.76296296,\n",
       "       0.76865672, 0.77443609, 0.77272727, 0.77099237, 0.77692308,\n",
       "       0.7751938 , 0.7734375 , 0.77165354, 0.77777778, 0.776     ,\n",
       "       0.78225806, 0.7804878 , 0.77868852, 0.7768595 , 0.775     ,\n",
       "       0.77310924, 0.77966102, 0.78632479, 0.79310345, 0.79130435,\n",
       "       0.78947368, 0.78761062, 0.79464286, 0.8018018 , 0.8       ,\n",
       "       0.79816514, 0.80555556, 0.81308411, 0.81132075, 0.81904762,\n",
       "       0.81730769, 0.81553398, 0.81372549, 0.82178218, 0.82      ,\n",
       "       0.81818182, 0.81632653, 0.82474227, 0.82291667, 0.82105263,\n",
       "       0.81914894, 0.8172043 , 0.81521739, 0.81318681, 0.81111111,\n",
       "       0.82022472, 0.81818182, 0.81609195, 0.81395349, 0.81176471,\n",
       "       0.80952381, 0.80722892, 0.80487805, 0.81481481, 0.8125    ,\n",
       "       0.82278481, 0.82051282, 0.81818182, 0.81578947, 0.81333333,\n",
       "       0.81081081, 0.80821918, 0.80555556, 0.8028169 , 0.81428571,\n",
       "       0.82608696, 0.83823529, 0.85074627, 0.84848485, 0.84615385,\n",
       "       0.84375   , 0.85714286, 0.85483871, 0.85245902, 0.85      ,\n",
       "       0.84745763, 0.84482759, 0.84210526, 0.83928571, 0.83636364,\n",
       "       0.83333333, 0.83018868, 0.82692308, 0.84313725, 0.84      ,\n",
       "       0.83673469, 0.83333333, 0.82978723, 0.82608696, 0.82222222,\n",
       "       0.81818182, 0.8372093 , 0.83333333, 0.82926829, 0.85      ,\n",
       "       0.84615385, 0.84210526, 0.83783784, 0.86111111, 0.85714286,\n",
       "       0.85294118, 0.84848485, 0.84375   , 0.83870968, 0.83333333,\n",
       "       0.82758621, 0.82142857, 0.81481481, 0.80769231, 0.8       ,\n",
       "       0.79166667, 0.7826087 , 0.77272727, 0.80952381, 0.8       ,\n",
       "       0.78947368, 0.77777778, 0.76470588, 0.75      , 0.73333333,\n",
       "       0.71428571, 0.69230769, 0.75      , 0.72727273, 0.8       ,\n",
       "       0.77777778, 0.75      , 0.71428571, 0.66666667, 0.6       ,\n",
       "       0.75      , 0.66666667, 0.5       , 1.        , 1.        ])"
      ]
     },
     "execution_count": 49,
     "metadata": {},
     "output_type": "execute_result"
    }
   ],
   "source": [
    "pre"
   ]
  },
  {
   "cell_type": "code",
   "execution_count": 50,
   "metadata": {},
   "outputs": [
    {
     "data": {
      "text/plain": [
       "615"
      ]
     },
     "execution_count": 50,
     "metadata": {},
     "output_type": "execute_result"
    }
   ],
   "source": [
    "len(pre)"
   ]
  },
  {
   "cell_type": "code",
   "execution_count": 51,
   "metadata": {},
   "outputs": [
    {
     "data": {
      "text/plain": [
       "615"
      ]
     },
     "execution_count": 51,
     "metadata": {},
     "output_type": "execute_result"
    }
   ],
   "source": [
    "len(rec)"
   ]
  },
  {
   "cell_type": "code",
   "execution_count": 52,
   "metadata": {},
   "outputs": [
    {
     "data": {
      "text/plain": [
       "614"
      ]
     },
     "execution_count": 52,
     "metadata": {},
     "output_type": "execute_result"
    }
   ],
   "source": [
    "len(thre)"
   ]
  },
  {
   "cell_type": "markdown",
   "metadata": {},
   "source": [
    "- the last precision point \"1.\" was automatically inputed (nothing was predicted for it). They are all supposed to have a length of 614. hence, it will be excluded in the plot, same with recall to prevent errors. "
   ]
  },
  {
   "cell_type": "code",
   "execution_count": 48,
   "metadata": {},
   "outputs": [
    {
     "data": {
      "image/png": "[encoded data removed]",
      "text/plain": [
       "<Figure size 720x360 with 1 Axes>"
      ]
     },
     "metadata": {
      "needs_background": "light"
     },
     "output_type": "display_data"
    }
   ],
   "source": [
    "pre, rec, thre = precision_recall_curve(y_train, prob_train)\n",
    "\n",
    "plt.figure(figsize =(10, 5))\n",
    "plt.plot(thre, pre[:-1], 'b--', label = \"Precision\") # plotting threshold against precision excluding the last value\n",
    "plt.plot(thre, rec[:-1], 'r--', label = \"Recall\") # plotting threshold against recall excluding the last value\n",
    "plt.ylim([0, 1])\n",
    "plt.legend(loc= \"best\")\n",
    "plt.xlabel(\"Thresholds\")\n",
    "plt.show()"
   ]
  },
  {
   "cell_type": "markdown",
   "metadata": {},
   "source": [
    "- this plot is giving us a lot of information\n",
    "- recall is at the best at threshold of arounf 0.1 while precision is at the best at threshold of 1.0\n",
    "- suppose we want to maximize recall, we will use a threshold of 0.1 \n",
    "- suppose we want to maximize precision, we will use a threshold of 1.0\n",
    "- if we are interested in a balance between recall and precision, we will use 0.4\n",
    "- **if you want to maximize recall, you will decrease the threshold value; while if you want to maximize precision, you will increase it**\n",
    "- hence, we can use a threshold based on what we want to maximize"
   ]
  },
  {
   "cell_type": "code",
   "execution_count": 53,
   "metadata": {},
   "outputs": [
    {
     "data": {
      "image/png": "[encoded data removed]",
      "text/plain": [
       "<Figure size 432x288 with 2 Axes>"
      ]
     },
     "metadata": {
      "needs_background": "light"
     },
     "output_type": "display_data"
    },
    {
     "data": {
      "text/html": [
       "<div>\n",
       "<style scoped>\n",
       "    .dataframe tbody tr th:only-of-type {\n",
       "        vertical-align: middle;\n",
       "    }\n",
       "\n",
       "    .dataframe tbody tr th {\n",
       "        vertical-align: top;\n",
       "    }\n",
       "\n",
       "    .dataframe thead th {\n",
       "        text-align: right;\n",
       "    }\n",
       "</style>\n",
       "<table border=\"1\" class=\"dataframe\">\n",
       "  <thead>\n",
       "    <tr style=\"text-align: right;\">\n",
       "      <th></th>\n",
       "      <th>Accuracy</th>\n",
       "      <th>Precision</th>\n",
       "      <th>Recall</th>\n",
       "      <th>F1</th>\n",
       "    </tr>\n",
       "  </thead>\n",
       "  <tbody>\n",
       "    <tr>\n",
       "      <th>0</th>\n",
       "      <td>0.590909</td>\n",
       "      <td>0.46087</td>\n",
       "      <td>0.981481</td>\n",
       "      <td>0.627219</td>\n",
       "    </tr>\n",
       "  </tbody>\n",
       "</table>\n",
       "</div>"
      ],
      "text/plain": [
       "   Accuracy  Precision    Recall        F1\n",
       "0  0.590909    0.46087  0.981481  0.627219"
      ]
     },
     "execution_count": 53,
     "metadata": {},
     "output_type": "execute_result"
    }
   ],
   "source": [
    "# to maximize recall\n",
    "evaluate(log_reg_model, x_test_sd, y_test, threshold = 0.1 )"
   ]
  },
  {
   "cell_type": "markdown",
   "metadata": {},
   "source": [
    "- Recall is almost 100 percent"
   ]
  },
  {
   "cell_type": "code",
   "execution_count": 55,
   "metadata": {},
   "outputs": [
    {
     "data": {
      "image/png": "[encoded data removed]",
      "text/plain": [
       "<Figure size 432x288 with 2 Axes>"
      ]
     },
     "metadata": {
      "needs_background": "light"
     },
     "output_type": "display_data"
    },
    {
     "data": {
      "text/html": [
       "<div>\n",
       "<style scoped>\n",
       "    .dataframe tbody tr th:only-of-type {\n",
       "        vertical-align: middle;\n",
       "    }\n",
       "\n",
       "    .dataframe tbody tr th {\n",
       "        vertical-align: top;\n",
       "    }\n",
       "\n",
       "    .dataframe thead th {\n",
       "        text-align: right;\n",
       "    }\n",
       "</style>\n",
       "<table border=\"1\" class=\"dataframe\">\n",
       "  <thead>\n",
       "    <tr style=\"text-align: right;\">\n",
       "      <th></th>\n",
       "      <th>Accuracy</th>\n",
       "      <th>Precision</th>\n",
       "      <th>Recall</th>\n",
       "      <th>F1</th>\n",
       "    </tr>\n",
       "  </thead>\n",
       "  <tbody>\n",
       "    <tr>\n",
       "      <th>0</th>\n",
       "      <td>0.662338</td>\n",
       "      <td>1.0</td>\n",
       "      <td>0.037037</td>\n",
       "      <td>0.071429</td>\n",
       "    </tr>\n",
       "  </tbody>\n",
       "</table>\n",
       "</div>"
      ],
      "text/plain": [
       "   Accuracy  Precision    Recall        F1\n",
       "0  0.662338        1.0  0.037037  0.071429"
      ]
     },
     "execution_count": 55,
     "metadata": {},
     "output_type": "execute_result"
    }
   ],
   "source": [
    "# to maximize precision\n",
    "evaluate(log_reg_model, x_test_sd, y_test, threshold = 0.9 )"
   ]
  },
  {
   "cell_type": "markdown",
   "metadata": {},
   "source": [
    "- precision is 100 percent"
   ]
  },
  {
   "cell_type": "code",
   "execution_count": 58,
   "metadata": {},
   "outputs": [
    {
     "data": {
      "image/png": "[encoded data removed]",
      "text/plain": [
       "<Figure size 432x288 with 2 Axes>"
      ]
     },
     "metadata": {
      "needs_background": "light"
     },
     "output_type": "display_data"
    },
    {
     "data": {
      "text/html": [
       "<div>\n",
       "<style scoped>\n",
       "    .dataframe tbody tr th:only-of-type {\n",
       "        vertical-align: middle;\n",
       "    }\n",
       "\n",
       "    .dataframe tbody tr th {\n",
       "        vertical-align: top;\n",
       "    }\n",
       "\n",
       "    .dataframe thead th {\n",
       "        text-align: right;\n",
       "    }\n",
       "</style>\n",
       "<table border=\"1\" class=\"dataframe\">\n",
       "  <thead>\n",
       "    <tr style=\"text-align: right;\">\n",
       "      <th></th>\n",
       "      <th>Accuracy</th>\n",
       "      <th>Precision</th>\n",
       "      <th>Recall</th>\n",
       "      <th>F1</th>\n",
       "    </tr>\n",
       "  </thead>\n",
       "  <tbody>\n",
       "    <tr>\n",
       "      <th>0</th>\n",
       "      <td>0.779221</td>\n",
       "      <td>0.685185</td>\n",
       "      <td>0.685185</td>\n",
       "      <td>0.685185</td>\n",
       "    </tr>\n",
       "  </tbody>\n",
       "</table>\n",
       "</div>"
      ],
      "text/plain": [
       "   Accuracy  Precision    Recall        F1\n",
       "0  0.779221   0.685185  0.685185  0.685185"
      ]
     },
     "execution_count": 58,
     "metadata": {},
     "output_type": "execute_result"
    }
   ],
   "source": [
    "# to balance both recall and precision\n",
    "evaluate(log_reg_model, x_test_sd, y_test, threshold = 0.4)"
   ]
  },
  {
   "cell_type": "markdown",
   "metadata": {},
   "source": [
    "- precision are recall are equal"
   ]
  },
  {
   "cell_type": "markdown",
   "metadata": {},
   "source": [
    "the plot is easy to read but if you want to automatically identify the threshold you can use argmax"
   ]
  },
  {
   "cell_type": "code",
   "execution_count": 61,
   "metadata": {},
   "outputs": [],
   "source": [
    "#np.argmax(rec[:-1])"
   ]
  },
  {
   "cell_type": "code",
   "execution_count": 62,
   "metadata": {},
   "outputs": [],
   "source": [
    "#np.argmax(pre[:-1])"
   ]
  },
  {
   "cell_type": "code",
   "execution_count": null,
   "metadata": {},
   "outputs": [],
   "source": []
  },
  {
   "cell_type": "markdown",
   "metadata": {},
   "source": [
    "#### How to improve the model\n",
    " the goal of a data scientist is to try everything possible to improve the performance of a model to get a best performance. There are three major approaches\n",
    "1. use of performance metrics e.g. ROC curve; it uses a default threshold of 0.5. The threshold can be adjusted to improve the performance of the model. This is achieve by determining the threshold at which the point where the tpr and fpr are far from each other. Then the determined threshold can then be used to rebuild the model.\n",
    "2. use of model hyperparameters to tweak: e.g the C (for regularization,similar to alpha in ridge and lasso) and solver\n",
    "3. balancing of data itself: e.g use of SMOTE, oversampling and undersampling"
   ]
  },
  {
   "cell_type": "markdown",
   "metadata": {},
   "source": [
    "#### 1. Improvement using Metrics"
   ]
  },
  {
   "cell_type": "code",
   "execution_count": 44,
   "metadata": {},
   "outputs": [
    {
     "data": {
      "text/plain": [
       "40"
      ]
     },
     "execution_count": 44,
     "metadata": {},
     "output_type": "execute_result"
    }
   ],
   "source": [
    "optimal_index= np.argmax(tpr - fpr)\n",
    "# argmax gives the position where the maximum difference occurs\n",
    "# we can use the position to filter the thre and obtain the optimal threshold\n",
    "optimal_index"
   ]
  },
  {
   "cell_type": "markdown",
   "metadata": {},
   "source": [
    "- Position 40 is the position of the optimal threshold we are interested in"
   ]
  },
  {
   "cell_type": "code",
   "execution_count": 94,
   "metadata": {},
   "outputs": [
    {
     "data": {
      "text/plain": [
       "0.22780215776273335"
      ]
     },
     "execution_count": 94,
     "metadata": {},
     "output_type": "execute_result"
    }
   ],
   "source": [
    "optimal_thre = thre[optimal_index]\n",
    "optimal_thre"
   ]
  },
  {
   "cell_type": "markdown",
   "metadata": {},
   "source": [
    "- 0.22780215776273335 is the optimal threshold\n",
    "- initially, when building the model, we used threshold of 0.5\n",
    "- hence, there are chances that the threshold we use is too high\n",
    "- we can now rebuild the model by changing the threshold"
   ]
  },
  {
   "cell_type": "code",
   "execution_count": 111,
   "metadata": {},
   "outputs": [
    {
     "data": {
      "image/png": "[encoded data removed]",
      "text/plain": [
       "<Figure size 432x288 with 2 Axes>"
      ]
     },
     "metadata": {
      "needs_background": "light"
     },
     "output_type": "display_data"
    },
    {
     "data": {
      "text/html": [
       "<div>\n",
       "<style scoped>\n",
       "    .dataframe tbody tr th:only-of-type {\n",
       "        vertical-align: middle;\n",
       "    }\n",
       "\n",
       "    .dataframe tbody tr th {\n",
       "        vertical-align: top;\n",
       "    }\n",
       "\n",
       "    .dataframe thead th {\n",
       "        text-align: right;\n",
       "    }\n",
       "</style>\n",
       "<table border=\"1\" class=\"dataframe\">\n",
       "  <thead>\n",
       "    <tr style=\"text-align: right;\">\n",
       "      <th></th>\n",
       "      <th>Accuracy</th>\n",
       "      <th>Precision</th>\n",
       "      <th>Recall</th>\n",
       "      <th>F1</th>\n",
       "    </tr>\n",
       "  </thead>\n",
       "  <tbody>\n",
       "    <tr>\n",
       "      <th>0</th>\n",
       "      <td>0.779221</td>\n",
       "      <td>0.625</td>\n",
       "      <td>0.925926</td>\n",
       "      <td>0.746269</td>\n",
       "    </tr>\n",
       "  </tbody>\n",
       "</table>\n",
       "</div>"
      ],
      "text/plain": [
       "   Accuracy  Precision    Recall        F1\n",
       "0  0.779221      0.625  0.925926  0.746269"
      ]
     },
     "execution_count": 111,
     "metadata": {},
     "output_type": "execute_result"
    }
   ],
   "source": [
    "evaluate(log_reg_model, x_test_sd, y_test, threshold = optimal_thre)"
   ]
  },
  {
   "cell_type": "markdown",
   "metadata": {},
   "source": [
    "- our recall is now high\n",
    "- this also improves the FN result \n",
    "- this is a good result in both academia and industry"
   ]
  },
  {
   "cell_type": "markdown",
   "metadata": {},
   "source": [
    "#### 2. Use of Model Hyperparameters\n",
    "1. C: regularization parameter, the smaller the value of C, the more the strength of regularization; this reduces the coefficient associated with feautures. However, if the coefficients are very small, the model will be too simple.\n",
    "\n",
    "2. class weight: to balance the minority and majority classes"
   ]
  },
  {
   "cell_type": "code",
   "execution_count": 116,
   "metadata": {},
   "outputs": [
    {
     "data": {
      "text/plain": [
       "[0.7662337662337663,\n",
       " 0.7662337662337663,\n",
       " 0.7662337662337663,\n",
       " 0.7662337662337663,\n",
       " 0.7662337662337663,\n",
       " 0.7662337662337663,\n",
       " 0.7727272727272727,\n",
       " 0.7727272727272727,\n",
       " 0.7727272727272727]"
      ]
     },
     "execution_count": 116,
     "metadata": {},
     "output_type": "execute_result"
    }
   ],
   "source": [
    "c_values = [0.1, 0.2, 0.3, 0.4, 0.5, 0.6, 0.7, 0.8, 0.9]\n",
    "accs = []\n",
    "\n",
    "for c in c_values:\n",
    "    model = LogisticRegression(C =c)\n",
    "    model.fit(x_train_sd, y_train)\n",
    "    acc= model.score(x_test_sd, y_test)\n",
    "    accs.append(acc)\n",
    "    \n",
    "accs"
   ]
  },
  {
   "cell_type": "code",
   "execution_count": 117,
   "metadata": {},
   "outputs": [
    {
     "data": {
      "text/plain": [
       "[0.7662337662337663,\n",
       " 0.7662337662337663,\n",
       " 0.7662337662337663,\n",
       " 0.7727272727272727,\n",
       " 0.7727272727272727,\n",
       " 0.7662337662337663,\n",
       " 0.7662337662337663,\n",
       " 0.7727272727272727,\n",
       " 0.7662337662337663,\n",
       " 0.7662337662337663]"
      ]
     },
     "execution_count": 117,
     "metadata": {},
     "output_type": "execute_result"
    }
   ],
   "source": [
    "# let's generate random values of c instead. rand gives random values btw 0 and 1\n",
    "c_values = np.random.rand(5,2).flatten()\n",
    "\n",
    "accs = []\n",
    "\n",
    "for c in c_values:\n",
    "    model = LogisticRegression(C =c)\n",
    "    model.fit(x_train_sd, y_train)\n",
    "    acc= model.score(x_test_sd, y_test)\n",
    "    accs.append(acc)\n",
    "    \n",
    "accs"
   ]
  },
  {
   "cell_type": "code",
   "execution_count": 118,
   "metadata": {},
   "outputs": [
    {
     "data": {
      "text/plain": [
       "0.7369884873429793"
      ]
     },
     "execution_count": 118,
     "metadata": {},
     "output_type": "execute_result"
    }
   ],
   "source": [
    "optimal_idx = np.argmax(accs)\n",
    "optimal_c = c_values[optimal_idx]\n",
    "optimal_c"
   ]
  },
  {
   "cell_type": "code",
   "execution_count": 120,
   "metadata": {},
   "outputs": [
    {
     "name": "stdout",
     "output_type": "stream",
     "text": [
      "Train Accuracy 0.7687296416938111\n"
     ]
    },
    {
     "data": {
      "image/png": "[encoded data removed]",
      "text/plain": [
       "<Figure size 432x288 with 2 Axes>"
      ]
     },
     "metadata": {
      "needs_background": "light"
     },
     "output_type": "display_data"
    },
    {
     "data": {
      "text/html": [
       "<div>\n",
       "<style scoped>\n",
       "    .dataframe tbody tr th:only-of-type {\n",
       "        vertical-align: middle;\n",
       "    }\n",
       "\n",
       "    .dataframe tbody tr th {\n",
       "        vertical-align: top;\n",
       "    }\n",
       "\n",
       "    .dataframe thead th {\n",
       "        text-align: right;\n",
       "    }\n",
       "</style>\n",
       "<table border=\"1\" class=\"dataframe\">\n",
       "  <thead>\n",
       "    <tr style=\"text-align: right;\">\n",
       "      <th></th>\n",
       "      <th>Accuracy</th>\n",
       "      <th>Precision</th>\n",
       "      <th>Recall</th>\n",
       "      <th>F1</th>\n",
       "    </tr>\n",
       "  </thead>\n",
       "  <tbody>\n",
       "    <tr>\n",
       "      <th>0</th>\n",
       "      <td>0.772727</td>\n",
       "      <td>0.74359</td>\n",
       "      <td>0.537037</td>\n",
       "      <td>0.623656</td>\n",
       "    </tr>\n",
       "  </tbody>\n",
       "</table>\n",
       "</div>"
      ],
      "text/plain": [
       "   Accuracy  Precision    Recall        F1\n",
       "0  0.772727    0.74359  0.537037  0.623656"
      ]
     },
     "execution_count": 120,
     "metadata": {},
     "output_type": "execute_result"
    }
   ],
   "source": [
    "# rebuilding the model using our optimal c\n",
    "log_reg_c = LogisticRegression(random_state =0, C  = optimal_c)\n",
    "log_reg_c_model = train(log_reg_c, x_train_sd, y_train)\n",
    "df_c = evaluate(log_reg_c_model, x_test_sd, y_test)\n",
    "df_c"
   ]
  },
  {
   "cell_type": "markdown",
   "metadata": {},
   "source": [
    "- Tweaking the value of C did not improve the model, it gave us exactly same performance as before. However, in some cases, it will improve it"
   ]
  },
  {
   "cell_type": "markdown",
   "metadata": {},
   "source": [
    "#### 3. Model Improvement from the aspect of data - Balancing of data\n",
    "- Oversampling\n",
    "- undersampling"
   ]
  },
  {
   "cell_type": "code",
   "execution_count": 121,
   "metadata": {},
   "outputs": [],
   "source": [
    "# pip install imblearn\n",
    "from imblearn.over_sampling import ADASYN, SMOTE,RandomOverSampler\n",
    "from imblearn.under_sampling import RandomUnderSampler"
   ]
  },
  {
   "cell_type": "code",
   "execution_count": 123,
   "metadata": {},
   "outputs": [],
   "source": [
    "def balance_data(X, y, smote_type):\n",
    "# only balance the training data because in reality you cant balance an unseen data.\n",
    "# if you balance your test data and you have a good result, you mmight be surprised at the performance on unseen data\n",
    "    \"\"\"\n",
    "    X = train features\n",
    "    y = train target\n",
    "    smote_type: kind of imbalance strategy\n",
    "    \n",
    "    \"\"\"\n",
    "    X_res, y_res = smote_type.fit_resample(X, y )\n",
    "    # X_res = resampled features\n",
    "    # y_res = resampled target\n",
    "    # resample = deals with generation of artificial data\n",
    "    \n",
    "    return X_res, y_res\n"
   ]
  },
  {
   "cell_type": "code",
   "execution_count": 124,
   "metadata": {},
   "outputs": [],
   "source": [
    "# set the sead\n",
    "under = RandomUnderSampler(random_state =0) \n",
    "over = RandomOverSampler(random_state =0) \n",
    "smote = SMOTE(random_state= 0)\n",
    "adasyn = ADASYN(random_state= 0)\n",
    "\n",
    "x_train_un, y_train_un = balance_data(x_train_sd , y_train, under)\n",
    "x_train_ov, y_train_ov = balance_data(x_train_sd , y_train, over)\n",
    "x_train_sm, y_train_sm = balance_data(x_train_sd , y_train, smote)\n",
    "x_train_ada, y_train_ada = balance_data(x_train_sd , y_train, adasyn)"
   ]
  },
  {
   "cell_type": "code",
   "execution_count": 133,
   "metadata": {},
   "outputs": [
    {
     "data": {
      "text/plain": [
       "Counter({0: 214, 1: 214})"
      ]
     },
     "execution_count": 133,
     "metadata": {},
     "output_type": "execute_result"
    }
   ],
   "source": [
    "# pip install collections\n",
    "\n",
    "# undersampling\n",
    "from collections import Counter\n",
    "Counter(y_train_un)"
   ]
  },
  {
   "cell_type": "markdown",
   "metadata": {},
   "source": [
    "- both minority and majority classes are the same now "
   ]
  },
  {
   "cell_type": "code",
   "execution_count": 137,
   "metadata": {},
   "outputs": [
    {
     "name": "stdout",
     "output_type": "stream",
     "text": [
      "Train Accuracy 0.7453271028037384\n"
     ]
    },
    {
     "data": {
      "image/png": "[encoded data removed]",
      "text/plain": [
       "<Figure size 432x288 with 2 Axes>"
      ]
     },
     "metadata": {
      "needs_background": "light"
     },
     "output_type": "display_data"
    },
    {
     "data": {
      "text/html": [
       "<div>\n",
       "<style scoped>\n",
       "    .dataframe tbody tr th:only-of-type {\n",
       "        vertical-align: middle;\n",
       "    }\n",
       "\n",
       "    .dataframe tbody tr th {\n",
       "        vertical-align: top;\n",
       "    }\n",
       "\n",
       "    .dataframe thead th {\n",
       "        text-align: right;\n",
       "    }\n",
       "</style>\n",
       "<table border=\"1\" class=\"dataframe\">\n",
       "  <thead>\n",
       "    <tr style=\"text-align: right;\">\n",
       "      <th></th>\n",
       "      <th>Accuracy</th>\n",
       "      <th>Precision</th>\n",
       "      <th>Recall</th>\n",
       "      <th>F1</th>\n",
       "    </tr>\n",
       "  </thead>\n",
       "  <tbody>\n",
       "    <tr>\n",
       "      <th>0</th>\n",
       "      <td>0.772727</td>\n",
       "      <td>0.650794</td>\n",
       "      <td>0.759259</td>\n",
       "      <td>0.700855</td>\n",
       "    </tr>\n",
       "  </tbody>\n",
       "</table>\n",
       "</div>"
      ],
      "text/plain": [
       "   Accuracy  Precision    Recall        F1\n",
       "0  0.772727   0.650794  0.759259  0.700855"
      ]
     },
     "execution_count": 137,
     "metadata": {},
     "output_type": "execute_result"
    }
   ],
   "source": [
    "log_reg_un = train(log_reg, x_train_un, y_train_un)\n",
    "# using our initial logistic regression model\n",
    "df_un = evaluate(log_reg_un,x_test_sd, y_test)\n",
    "df_un"
   ]
  },
  {
   "cell_type": "markdown",
   "metadata": {},
   "source": [
    "- the recall improves"
   ]
  },
  {
   "cell_type": "code",
   "execution_count": 132,
   "metadata": {},
   "outputs": [
    {
     "data": {
      "text/plain": [
       "Counter({1: 400, 0: 400})"
      ]
     },
     "execution_count": 132,
     "metadata": {},
     "output_type": "execute_result"
    }
   ],
   "source": [
    "# oversampling\n",
    "Counter(y_train_ov)"
   ]
  },
  {
   "cell_type": "code",
   "execution_count": 142,
   "metadata": {},
   "outputs": [
    {
     "name": "stdout",
     "output_type": "stream",
     "text": [
      "Train Accuracy 0.75\n"
     ]
    },
    {
     "data": {
      "image/png": "[encoded data removed]",
      "text/plain": [
       "<Figure size 432x288 with 2 Axes>"
      ]
     },
     "metadata": {
      "needs_background": "light"
     },
     "output_type": "display_data"
    },
    {
     "data": {
      "text/html": [
       "<div>\n",
       "<style scoped>\n",
       "    .dataframe tbody tr th:only-of-type {\n",
       "        vertical-align: middle;\n",
       "    }\n",
       "\n",
       "    .dataframe tbody tr th {\n",
       "        vertical-align: top;\n",
       "    }\n",
       "\n",
       "    .dataframe thead th {\n",
       "        text-align: right;\n",
       "    }\n",
       "</style>\n",
       "<table border=\"1\" class=\"dataframe\">\n",
       "  <thead>\n",
       "    <tr style=\"text-align: right;\">\n",
       "      <th></th>\n",
       "      <th>Accuracy</th>\n",
       "      <th>Precision</th>\n",
       "      <th>Recall</th>\n",
       "      <th>F1</th>\n",
       "    </tr>\n",
       "  </thead>\n",
       "  <tbody>\n",
       "    <tr>\n",
       "      <th>0</th>\n",
       "      <td>0.779221</td>\n",
       "      <td>0.672414</td>\n",
       "      <td>0.722222</td>\n",
       "      <td>0.696429</td>\n",
       "    </tr>\n",
       "  </tbody>\n",
       "</table>\n",
       "</div>"
      ],
      "text/plain": [
       "   Accuracy  Precision    Recall        F1\n",
       "0  0.779221   0.672414  0.722222  0.696429"
      ]
     },
     "execution_count": 142,
     "metadata": {},
     "output_type": "execute_result"
    }
   ],
   "source": [
    "log_reg_ov = train(log_reg, x_train_ov, y_train_ov)\n",
    "# using our initial logistic regression model\n",
    "df_ov = evaluate(log_reg_ov,x_test_sd, y_test)\n",
    "df_ov"
   ]
  },
  {
   "cell_type": "markdown",
   "metadata": {},
   "source": [
    "- both of them improved on Recall"
   ]
  },
  {
   "cell_type": "code",
   "execution_count": 141,
   "metadata": {},
   "outputs": [
    {
     "name": "stdout",
     "output_type": "stream",
     "text": [
      "Train Accuracy 0.7525\n"
     ]
    },
    {
     "data": {
      "image/png": "[encoded data removed]",
      "text/plain": [
       "<Figure size 432x288 with 2 Axes>"
      ]
     },
     "metadata": {
      "needs_background": "light"
     },
     "output_type": "display_data"
    },
    {
     "data": {
      "text/html": [
       "<div>\n",
       "<style scoped>\n",
       "    .dataframe tbody tr th:only-of-type {\n",
       "        vertical-align: middle;\n",
       "    }\n",
       "\n",
       "    .dataframe tbody tr th {\n",
       "        vertical-align: top;\n",
       "    }\n",
       "\n",
       "    .dataframe thead th {\n",
       "        text-align: right;\n",
       "    }\n",
       "</style>\n",
       "<table border=\"1\" class=\"dataframe\">\n",
       "  <thead>\n",
       "    <tr style=\"text-align: right;\">\n",
       "      <th></th>\n",
       "      <th>Accuracy</th>\n",
       "      <th>Precision</th>\n",
       "      <th>Recall</th>\n",
       "      <th>F1</th>\n",
       "    </tr>\n",
       "  </thead>\n",
       "  <tbody>\n",
       "    <tr>\n",
       "      <th>0</th>\n",
       "      <td>0.766234</td>\n",
       "      <td>0.645161</td>\n",
       "      <td>0.740741</td>\n",
       "      <td>0.689655</td>\n",
       "    </tr>\n",
       "  </tbody>\n",
       "</table>\n",
       "</div>"
      ],
      "text/plain": [
       "   Accuracy  Precision    Recall        F1\n",
       "0  0.766234   0.645161  0.740741  0.689655"
      ]
     },
     "execution_count": 141,
     "metadata": {},
     "output_type": "execute_result"
    }
   ],
   "source": [
    "# smote\n",
    "log_reg_sm = train(log_reg, x_train_sm, y_train_sm)\n",
    "# using our initial logistic regression model\n",
    "df_sm = evaluate(log_reg_sm,x_test_sd, y_test)\n",
    "df_sm"
   ]
  },
  {
   "cell_type": "markdown",
   "metadata": {},
   "source": [
    "- smote performed slightly better"
   ]
  },
  {
   "cell_type": "code",
   "execution_count": 143,
   "metadata": {},
   "outputs": [
    {
     "name": "stdout",
     "output_type": "stream",
     "text": [
      "Train Accuracy 0.7118012422360248\n"
     ]
    },
    {
     "data": {
      "image/png": "[encoded data removed]",
      "text/plain": [
       "<Figure size 432x288 with 2 Axes>"
      ]
     },
     "metadata": {
      "needs_background": "light"
     },
     "output_type": "display_data"
    },
    {
     "data": {
      "text/html": [
       "<div>\n",
       "<style scoped>\n",
       "    .dataframe tbody tr th:only-of-type {\n",
       "        vertical-align: middle;\n",
       "    }\n",
       "\n",
       "    .dataframe tbody tr th {\n",
       "        vertical-align: top;\n",
       "    }\n",
       "\n",
       "    .dataframe thead th {\n",
       "        text-align: right;\n",
       "    }\n",
       "</style>\n",
       "<table border=\"1\" class=\"dataframe\">\n",
       "  <thead>\n",
       "    <tr style=\"text-align: right;\">\n",
       "      <th></th>\n",
       "      <th>Accuracy</th>\n",
       "      <th>Precision</th>\n",
       "      <th>Recall</th>\n",
       "      <th>F1</th>\n",
       "    </tr>\n",
       "  </thead>\n",
       "  <tbody>\n",
       "    <tr>\n",
       "      <th>0</th>\n",
       "      <td>0.785714</td>\n",
       "      <td>0.656716</td>\n",
       "      <td>0.814815</td>\n",
       "      <td>0.727273</td>\n",
       "    </tr>\n",
       "  </tbody>\n",
       "</table>\n",
       "</div>"
      ],
      "text/plain": [
       "   Accuracy  Precision    Recall        F1\n",
       "0  0.785714   0.656716  0.814815  0.727273"
      ]
     },
     "execution_count": 143,
     "metadata": {},
     "output_type": "execute_result"
    }
   ],
   "source": [
    "log_reg_ada = train(log_reg, x_train_ada, y_train_ada)\n",
    "# using our initial logistic regression model\n",
    "df_ada = evaluate(log_reg_ada,x_test_sd, y_test)\n",
    "df_ada"
   ]
  },
  {
   "cell_type": "markdown",
   "metadata": {},
   "source": [
    "- in terms of Recall ADASYN performed the best"
   ]
  },
  {
   "cell_type": "markdown",
   "metadata": {},
   "source": [
    "#### conclusion\n",
    "\n",
    "if we want to go ahead to deploy this model, we will select the model improved in terms of the metric. This recomendation depends on the goal of the industry"
   ]
  },
  {
   "cell_type": "markdown",
   "metadata": {},
   "source": [
    "#### Limitation of Linear models\n",
    "- they have a series of a assumption\n",
    "- multi-collinearity\n",
    "- need for normalization"
   ]
  },
  {
   "cell_type": "markdown",
   "metadata": {},
   "source": [
    "## Exercise:\n",
    "- Using the titanic data on your Canvas dashboard, build a logistic regression model to predict whether\n",
    "a passenger survived or not.\n",
    "- Remember to use different metrics.\n",
    "- Interpret the performance of your model using confusion matrix."
   ]
  },
  {
   "cell_type": "markdown",
   "metadata": {},
   "source": [
    "### TREE-BASED MODELS\n",
    "\n",
    "non-linear models are non-parametric - mainly focusing on individual features not really about the distance\n",
    "\n",
    "#### Decision Tree / CART (Classification and Regression Tree)\n",
    "\n",
    "This is a non-parametric supervised learning algorithm which is utilized for both regression and classification tasks. It is a hierarchical, tree structure which consists of root nodes, branches, internal nodes and leaf nodes\n",
    "- not susceptible to multicolliearity\n",
    "- no need for normalization - they don't calculate distance\n",
    "- no need for linearity between target and features\n",
    "- advanced package that implement decision tree allows missing values\n",
    "- however, sci-kit learn package doesn't work with missing values\n",
    "\n",
    "- pure leaf: all the classification belong to one class\n",
    "- impure leaf: classification contain both classes\n",
    "\n",
    "#### how to choose thr best feature at each node\n",
    "- Information Gain: to explain information gain, you need to understand entropy. Entropy is used to measure the impurity of sample values. Entropy values are between 0 and 1. The higher the value of information gain, the more the model is able to measure how a randomly chosen feature will lead to mis-classification. It is giving of the information about the selection of that variable. Information gain represents the difference in entropy before and after a split on a given attribute\n",
    "- Gini Impurity : Gini is a technique that measures how often a randomly chosen feature is leading to mis-classification / wrong prediction"
   ]
  },
  {
   "cell_type": "markdown",
   "metadata": {},
   "source": [
    "#### Pros of Decision Tree\n",
    "- easy to interpret: it is used in the industry a lot because you can easily interpret your result. You can draw the tree and explain how it is making its decision.\n",
    "- little to no data preparation is required\n",
    "- more flexible: used for classification and regression"
   ]
  },
  {
   "cell_type": "markdown",
   "metadata": {},
   "source": [
    "#### Cons of Decision Tree\n",
    "- prone to overfitting -it will not stop building the tree to a large depth until it gets a very pure tree. When it so sure you have diabetes. In trying to achieve that, it will continue building thetree.this will make the tree very complex and thus leads to overfitting. \n",
    "\n",
    "There are 2 methods of preventing overfitting. \n",
    "1. Pre-proning; this will stop the tree from being fully built. This cut off the depth of the 3\n",
    "2. post-proning: Allow the tree to be fully built and then chunk out the portion of the tree that contains less amount of data\n",
    "3. Using of a forest of tree: instead of looking one tree, we bring different trees and check their performance; this is where random forest comes in \n",
    "- more costly: it is more computationally intensive; it is going to calculate the entropy of all features"
   ]
  },
  {
   "cell_type": "code",
   "execution_count": null,
   "metadata": {},
   "outputs": [],
   "source": []
  }
 ],
 "metadata": {
  "kernelspec": {
   "display_name": "Python 3 (ipykernel)",
   "language": "python",
   "name": "python3"
  },
  "language_info": {
   "codemirror_mode": {
    "name": "ipython",
    "version": 3
   },
   "file_extension": ".py",
   "mimetype": "text/x-python",
   "name": "python",
   "nbconvert_exporter": "python",
   "pygments_lexer": "ipython3",
   "version": "3.9.12"
  }
 },
 "nbformat": 4,
 "nbformat_minor": 1
}
